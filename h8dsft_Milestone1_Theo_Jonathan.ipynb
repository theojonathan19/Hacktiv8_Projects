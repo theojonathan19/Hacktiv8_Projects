{
  "nbformat": 4,
  "nbformat_minor": 0,
  "metadata": {
    "colab": {
      "provenance": []
    },
    "kernelspec": {
      "name": "python3",
      "display_name": "Python 3"
    },
    "language_info": {
      "name": "python"
    }
  },
  "cells": [
    {
      "cell_type": "markdown",
      "source": [
        "#URL dashboard\n",
        "https://public.tableau.com/views/h8dsft_Milestone1_theo_jonathan/Dashboard1?:language=en-US&:display_count=n&:origin=viz_share_link"
      ],
      "metadata": {
        "id": "EABEDzl2IeCx"
      }
    },
    {
      "cell_type": "markdown",
      "source": [
        "#**Milestone 1**\n",
        "Theo Jonathan FTDS Batch 019"
      ],
      "metadata": {
        "id": "JHvxY0yaE1me"
      }
    },
    {
      "cell_type": "markdown",
      "source": [
        "##**Identifikasi Masalah**\n",
        "\n",
        "###**Topik Permasalahan**\n",
        "\n",
        "Saya adalah seorang Data Analis yang mempunyai klien yaitu sebuah restoran pizza di New Jersey. Klien meminta saya untuk menganalisa data penjualan mereka untuk mencari tahu pizza apa yang selama ini paling banyak terjual dan yang paling sedikit terjual dan apa yang harus dilakukan untuk meningkatkan penjualan mereka.\n",
        "\n",
        "###**Problem Statement**\n",
        "\n",
        "1. Mencari tahu penjualan selama tahun 2015.\n",
        "2. Mencari tahu trend penjualan selama tahun 2015.\n",
        "3. Mencari tahu apa yang harus dilakukan untuk meningkatkan penjualan.\n",
        "4. Apa yang bisa dilakukan agar bisa bekerja lebih effisien?\n",
        "\n",
        "###**Latar Belakang Permasalahan**\n",
        "\n",
        "Pemilik restoran membuat data hasil penjualan selama tahun 2015 dan ingin tahu apa yang bisa dilakukan berdasarkan data tersebut. Pemilik juga ingin mengetahui apakah sudah saatnya untuk membuka cabang baru atau belum.\n",
        "\n",
        "###**Poin Penjabaran**\n",
        "\n",
        "1. Mencari total penjualan pizza di tahun 2015.\n",
        "2. Mencari tahu pizza apa yang paling banyak terjual dan paling sedikit terjual.\n",
        "3. Type Pizza apa yang memberikan paling banyak penjualan?\n",
        "4. Mencari tahu size dan type pizza apa yang paling banyak terjual?\n",
        "5. Mencari tahu di bulan apa terdapat penjualan terbanyak di tahun 2015\n",
        "6. Memeriksa distribusi data Type pizza yang paling banyak terjual.\n",
        "7. Bila ingin membuka cabang baru, berapa total penjualan yang harus didapatkan di cabang kedua?"
      ],
      "metadata": {
        "id": "1Qo-y8AvFYxi"
      }
    },
    {
      "cell_type": "markdown",
      "source": [
        "##**Data Loading**"
      ],
      "metadata": {
        "id": "X1_GAEKJ1AQ6"
      }
    },
    {
      "cell_type": "code",
      "source": [
        "#Import pustaka yang dibutuhkan\n",
        "import pandas as pd\n",
        "from scipy import stats\n",
        "import numpy as np\n",
        "%matplotlib inline\n",
        "import matplotlib\n",
        "import matplotlib.pyplot as plt\n",
        "import sklearn\n",
        "import seaborn as sns"
      ],
      "metadata": {
        "id": "qG0qwFHbEpEH"
      },
      "execution_count": 35,
      "outputs": []
    },
    {
      "cell_type": "markdown",
      "source": [
        "Query dari SQL\n",
        "\n",
        "SELECT * FROM `hacktiv8-378309.Pizza_sales.sales3` \n",
        "\n",
        "SELECT date as Date, time as Time, name as Name,size as Size, type as Type, price as Price\n",
        "\n",
        "FROM `hacktiv8-378309.Pizza_sales.sales3` "
      ],
      "metadata": {
        "id": "jxtWFilzyOYY"
      }
    },
    {
      "cell_type": "markdown",
      "source": [
        "Sumber referensi data dari Kaggle\n",
        "\n",
        "https://www.kaggle.com/datasets/ulrikthygepedersen/pizza-place-sales"
      ],
      "metadata": {
        "id": "x36mSgmDAeT1"
      }
    },
    {
      "cell_type": "code",
      "execution_count": 36,
      "metadata": {
        "colab": {
          "base_uri": "https://localhost:8080/",
          "height": 423
        },
        "id": "SuHdoadkEWE-",
        "outputId": "7d6d874b-c467-42bb-8528-d2477da9d833"
      },
      "outputs": [
        {
          "output_type": "execute_result",
          "data": {
            "text/plain": [
              "             Date      Time          Name Size     Type  Price\n",
              "0      2015-01-01  12:29:36       bbq_ckn    S  chicken  12.75\n",
              "1      2015-01-02  17:54:04       bbq_ckn    S  chicken  12.75\n",
              "2      2015-01-02  20:12:34       bbq_ckn    S  chicken  12.75\n",
              "3      2015-01-03  21:21:24       bbq_ckn    S  chicken  12.75\n",
              "4      2015-01-04  12:12:05       bbq_ckn    S  chicken  12.75\n",
              "...           ...       ...           ...  ...      ...    ...\n",
              "49569  2015-12-20  13:45:27  spinach_supr    L  supreme  20.75\n",
              "49570  2015-12-20  18:28:25  spinach_supr    L  supreme  20.75\n",
              "49571  2015-12-21  22:07:07  spinach_supr    L  supreme  20.75\n",
              "49572  2015-12-28  12:38:57  spinach_supr    L  supreme  20.75\n",
              "49573  2015-12-30  12:45:20  spinach_supr    L  supreme  20.75\n",
              "\n",
              "[49574 rows x 6 columns]"
            ],
            "text/html": [
              "\n",
              "  <div id=\"df-31c9d7b1-dfc4-4a64-bd70-aa0c3799a510\">\n",
              "    <div class=\"colab-df-container\">\n",
              "      <div>\n",
              "<style scoped>\n",
              "    .dataframe tbody tr th:only-of-type {\n",
              "        vertical-align: middle;\n",
              "    }\n",
              "\n",
              "    .dataframe tbody tr th {\n",
              "        vertical-align: top;\n",
              "    }\n",
              "\n",
              "    .dataframe thead th {\n",
              "        text-align: right;\n",
              "    }\n",
              "</style>\n",
              "<table border=\"1\" class=\"dataframe\">\n",
              "  <thead>\n",
              "    <tr style=\"text-align: right;\">\n",
              "      <th></th>\n",
              "      <th>Date</th>\n",
              "      <th>Time</th>\n",
              "      <th>Name</th>\n",
              "      <th>Size</th>\n",
              "      <th>Type</th>\n",
              "      <th>Price</th>\n",
              "    </tr>\n",
              "  </thead>\n",
              "  <tbody>\n",
              "    <tr>\n",
              "      <th>0</th>\n",
              "      <td>2015-01-01</td>\n",
              "      <td>12:29:36</td>\n",
              "      <td>bbq_ckn</td>\n",
              "      <td>S</td>\n",
              "      <td>chicken</td>\n",
              "      <td>12.75</td>\n",
              "    </tr>\n",
              "    <tr>\n",
              "      <th>1</th>\n",
              "      <td>2015-01-02</td>\n",
              "      <td>17:54:04</td>\n",
              "      <td>bbq_ckn</td>\n",
              "      <td>S</td>\n",
              "      <td>chicken</td>\n",
              "      <td>12.75</td>\n",
              "    </tr>\n",
              "    <tr>\n",
              "      <th>2</th>\n",
              "      <td>2015-01-02</td>\n",
              "      <td>20:12:34</td>\n",
              "      <td>bbq_ckn</td>\n",
              "      <td>S</td>\n",
              "      <td>chicken</td>\n",
              "      <td>12.75</td>\n",
              "    </tr>\n",
              "    <tr>\n",
              "      <th>3</th>\n",
              "      <td>2015-01-03</td>\n",
              "      <td>21:21:24</td>\n",
              "      <td>bbq_ckn</td>\n",
              "      <td>S</td>\n",
              "      <td>chicken</td>\n",
              "      <td>12.75</td>\n",
              "    </tr>\n",
              "    <tr>\n",
              "      <th>4</th>\n",
              "      <td>2015-01-04</td>\n",
              "      <td>12:12:05</td>\n",
              "      <td>bbq_ckn</td>\n",
              "      <td>S</td>\n",
              "      <td>chicken</td>\n",
              "      <td>12.75</td>\n",
              "    </tr>\n",
              "    <tr>\n",
              "      <th>...</th>\n",
              "      <td>...</td>\n",
              "      <td>...</td>\n",
              "      <td>...</td>\n",
              "      <td>...</td>\n",
              "      <td>...</td>\n",
              "      <td>...</td>\n",
              "    </tr>\n",
              "    <tr>\n",
              "      <th>49569</th>\n",
              "      <td>2015-12-20</td>\n",
              "      <td>13:45:27</td>\n",
              "      <td>spinach_supr</td>\n",
              "      <td>L</td>\n",
              "      <td>supreme</td>\n",
              "      <td>20.75</td>\n",
              "    </tr>\n",
              "    <tr>\n",
              "      <th>49570</th>\n",
              "      <td>2015-12-20</td>\n",
              "      <td>18:28:25</td>\n",
              "      <td>spinach_supr</td>\n",
              "      <td>L</td>\n",
              "      <td>supreme</td>\n",
              "      <td>20.75</td>\n",
              "    </tr>\n",
              "    <tr>\n",
              "      <th>49571</th>\n",
              "      <td>2015-12-21</td>\n",
              "      <td>22:07:07</td>\n",
              "      <td>spinach_supr</td>\n",
              "      <td>L</td>\n",
              "      <td>supreme</td>\n",
              "      <td>20.75</td>\n",
              "    </tr>\n",
              "    <tr>\n",
              "      <th>49572</th>\n",
              "      <td>2015-12-28</td>\n",
              "      <td>12:38:57</td>\n",
              "      <td>spinach_supr</td>\n",
              "      <td>L</td>\n",
              "      <td>supreme</td>\n",
              "      <td>20.75</td>\n",
              "    </tr>\n",
              "    <tr>\n",
              "      <th>49573</th>\n",
              "      <td>2015-12-30</td>\n",
              "      <td>12:45:20</td>\n",
              "      <td>spinach_supr</td>\n",
              "      <td>L</td>\n",
              "      <td>supreme</td>\n",
              "      <td>20.75</td>\n",
              "    </tr>\n",
              "  </tbody>\n",
              "</table>\n",
              "<p>49574 rows × 6 columns</p>\n",
              "</div>\n",
              "      <button class=\"colab-df-convert\" onclick=\"convertToInteractive('df-31c9d7b1-dfc4-4a64-bd70-aa0c3799a510')\"\n",
              "              title=\"Convert this dataframe to an interactive table.\"\n",
              "              style=\"display:none;\">\n",
              "        \n",
              "  <svg xmlns=\"http://www.w3.org/2000/svg\" height=\"24px\"viewBox=\"0 0 24 24\"\n",
              "       width=\"24px\">\n",
              "    <path d=\"M0 0h24v24H0V0z\" fill=\"none\"/>\n",
              "    <path d=\"M18.56 5.44l.94 2.06.94-2.06 2.06-.94-2.06-.94-.94-2.06-.94 2.06-2.06.94zm-11 1L8.5 8.5l.94-2.06 2.06-.94-2.06-.94L8.5 2.5l-.94 2.06-2.06.94zm10 10l.94 2.06.94-2.06 2.06-.94-2.06-.94-.94-2.06-.94 2.06-2.06.94z\"/><path d=\"M17.41 7.96l-1.37-1.37c-.4-.4-.92-.59-1.43-.59-.52 0-1.04.2-1.43.59L10.3 9.45l-7.72 7.72c-.78.78-.78 2.05 0 2.83L4 21.41c.39.39.9.59 1.41.59.51 0 1.02-.2 1.41-.59l7.78-7.78 2.81-2.81c.8-.78.8-2.07 0-2.86zM5.41 20L4 18.59l7.72-7.72 1.47 1.35L5.41 20z\"/>\n",
              "  </svg>\n",
              "      </button>\n",
              "      \n",
              "  <style>\n",
              "    .colab-df-container {\n",
              "      display:flex;\n",
              "      flex-wrap:wrap;\n",
              "      gap: 12px;\n",
              "    }\n",
              "\n",
              "    .colab-df-convert {\n",
              "      background-color: #E8F0FE;\n",
              "      border: none;\n",
              "      border-radius: 50%;\n",
              "      cursor: pointer;\n",
              "      display: none;\n",
              "      fill: #1967D2;\n",
              "      height: 32px;\n",
              "      padding: 0 0 0 0;\n",
              "      width: 32px;\n",
              "    }\n",
              "\n",
              "    .colab-df-convert:hover {\n",
              "      background-color: #E2EBFA;\n",
              "      box-shadow: 0px 1px 2px rgba(60, 64, 67, 0.3), 0px 1px 3px 1px rgba(60, 64, 67, 0.15);\n",
              "      fill: #174EA6;\n",
              "    }\n",
              "\n",
              "    [theme=dark] .colab-df-convert {\n",
              "      background-color: #3B4455;\n",
              "      fill: #D2E3FC;\n",
              "    }\n",
              "\n",
              "    [theme=dark] .colab-df-convert:hover {\n",
              "      background-color: #434B5C;\n",
              "      box-shadow: 0px 1px 3px 1px rgba(0, 0, 0, 0.15);\n",
              "      filter: drop-shadow(0px 1px 2px rgba(0, 0, 0, 0.3));\n",
              "      fill: #FFFFFF;\n",
              "    }\n",
              "  </style>\n",
              "\n",
              "      <script>\n",
              "        const buttonEl =\n",
              "          document.querySelector('#df-31c9d7b1-dfc4-4a64-bd70-aa0c3799a510 button.colab-df-convert');\n",
              "        buttonEl.style.display =\n",
              "          google.colab.kernel.accessAllowed ? 'block' : 'none';\n",
              "\n",
              "        async function convertToInteractive(key) {\n",
              "          const element = document.querySelector('#df-31c9d7b1-dfc4-4a64-bd70-aa0c3799a510');\n",
              "          const dataTable =\n",
              "            await google.colab.kernel.invokeFunction('convertToInteractive',\n",
              "                                                     [key], {});\n",
              "          if (!dataTable) return;\n",
              "\n",
              "          const docLinkHtml = 'Like what you see? Visit the ' +\n",
              "            '<a target=\"_blank\" href=https://colab.research.google.com/notebooks/data_table.ipynb>data table notebook</a>'\n",
              "            + ' to learn more about interactive tables.';\n",
              "          element.innerHTML = '';\n",
              "          dataTable['output_type'] = 'display_data';\n",
              "          await google.colab.output.renderOutput(dataTable, element);\n",
              "          const docLink = document.createElement('div');\n",
              "          docLink.innerHTML = docLinkHtml;\n",
              "          element.appendChild(docLink);\n",
              "        }\n",
              "      </script>\n",
              "    </div>\n",
              "  </div>\n",
              "  "
            ]
          },
          "metadata": {},
          "execution_count": 36
        }
      ],
      "source": [
        "#Loading dataset\n",
        "copied_path = '/content/pizzadataset.csv'\n",
        "df = pd.read_csv ('/content/pizzadataset.csv')\n",
        "df"
      ]
    },
    {
      "cell_type": "code",
      "source": [
        "df.head()"
      ],
      "metadata": {
        "colab": {
          "base_uri": "https://localhost:8080/",
          "height": 206
        },
        "id": "5yYp82Rtf6ip",
        "outputId": "b6d53f03-b26e-46a2-d309-43033898349d"
      },
      "execution_count": 37,
      "outputs": [
        {
          "output_type": "execute_result",
          "data": {
            "text/plain": [
              "         Date      Time     Name Size     Type  Price\n",
              "0  2015-01-01  12:29:36  bbq_ckn    S  chicken  12.75\n",
              "1  2015-01-02  17:54:04  bbq_ckn    S  chicken  12.75\n",
              "2  2015-01-02  20:12:34  bbq_ckn    S  chicken  12.75\n",
              "3  2015-01-03  21:21:24  bbq_ckn    S  chicken  12.75\n",
              "4  2015-01-04  12:12:05  bbq_ckn    S  chicken  12.75"
            ],
            "text/html": [
              "\n",
              "  <div id=\"df-6a9cf36d-a165-4ba1-9fa7-38805dfc0c69\">\n",
              "    <div class=\"colab-df-container\">\n",
              "      <div>\n",
              "<style scoped>\n",
              "    .dataframe tbody tr th:only-of-type {\n",
              "        vertical-align: middle;\n",
              "    }\n",
              "\n",
              "    .dataframe tbody tr th {\n",
              "        vertical-align: top;\n",
              "    }\n",
              "\n",
              "    .dataframe thead th {\n",
              "        text-align: right;\n",
              "    }\n",
              "</style>\n",
              "<table border=\"1\" class=\"dataframe\">\n",
              "  <thead>\n",
              "    <tr style=\"text-align: right;\">\n",
              "      <th></th>\n",
              "      <th>Date</th>\n",
              "      <th>Time</th>\n",
              "      <th>Name</th>\n",
              "      <th>Size</th>\n",
              "      <th>Type</th>\n",
              "      <th>Price</th>\n",
              "    </tr>\n",
              "  </thead>\n",
              "  <tbody>\n",
              "    <tr>\n",
              "      <th>0</th>\n",
              "      <td>2015-01-01</td>\n",
              "      <td>12:29:36</td>\n",
              "      <td>bbq_ckn</td>\n",
              "      <td>S</td>\n",
              "      <td>chicken</td>\n",
              "      <td>12.75</td>\n",
              "    </tr>\n",
              "    <tr>\n",
              "      <th>1</th>\n",
              "      <td>2015-01-02</td>\n",
              "      <td>17:54:04</td>\n",
              "      <td>bbq_ckn</td>\n",
              "      <td>S</td>\n",
              "      <td>chicken</td>\n",
              "      <td>12.75</td>\n",
              "    </tr>\n",
              "    <tr>\n",
              "      <th>2</th>\n",
              "      <td>2015-01-02</td>\n",
              "      <td>20:12:34</td>\n",
              "      <td>bbq_ckn</td>\n",
              "      <td>S</td>\n",
              "      <td>chicken</td>\n",
              "      <td>12.75</td>\n",
              "    </tr>\n",
              "    <tr>\n",
              "      <th>3</th>\n",
              "      <td>2015-01-03</td>\n",
              "      <td>21:21:24</td>\n",
              "      <td>bbq_ckn</td>\n",
              "      <td>S</td>\n",
              "      <td>chicken</td>\n",
              "      <td>12.75</td>\n",
              "    </tr>\n",
              "    <tr>\n",
              "      <th>4</th>\n",
              "      <td>2015-01-04</td>\n",
              "      <td>12:12:05</td>\n",
              "      <td>bbq_ckn</td>\n",
              "      <td>S</td>\n",
              "      <td>chicken</td>\n",
              "      <td>12.75</td>\n",
              "    </tr>\n",
              "  </tbody>\n",
              "</table>\n",
              "</div>\n",
              "      <button class=\"colab-df-convert\" onclick=\"convertToInteractive('df-6a9cf36d-a165-4ba1-9fa7-38805dfc0c69')\"\n",
              "              title=\"Convert this dataframe to an interactive table.\"\n",
              "              style=\"display:none;\">\n",
              "        \n",
              "  <svg xmlns=\"http://www.w3.org/2000/svg\" height=\"24px\"viewBox=\"0 0 24 24\"\n",
              "       width=\"24px\">\n",
              "    <path d=\"M0 0h24v24H0V0z\" fill=\"none\"/>\n",
              "    <path d=\"M18.56 5.44l.94 2.06.94-2.06 2.06-.94-2.06-.94-.94-2.06-.94 2.06-2.06.94zm-11 1L8.5 8.5l.94-2.06 2.06-.94-2.06-.94L8.5 2.5l-.94 2.06-2.06.94zm10 10l.94 2.06.94-2.06 2.06-.94-2.06-.94-.94-2.06-.94 2.06-2.06.94z\"/><path d=\"M17.41 7.96l-1.37-1.37c-.4-.4-.92-.59-1.43-.59-.52 0-1.04.2-1.43.59L10.3 9.45l-7.72 7.72c-.78.78-.78 2.05 0 2.83L4 21.41c.39.39.9.59 1.41.59.51 0 1.02-.2 1.41-.59l7.78-7.78 2.81-2.81c.8-.78.8-2.07 0-2.86zM5.41 20L4 18.59l7.72-7.72 1.47 1.35L5.41 20z\"/>\n",
              "  </svg>\n",
              "      </button>\n",
              "      \n",
              "  <style>\n",
              "    .colab-df-container {\n",
              "      display:flex;\n",
              "      flex-wrap:wrap;\n",
              "      gap: 12px;\n",
              "    }\n",
              "\n",
              "    .colab-df-convert {\n",
              "      background-color: #E8F0FE;\n",
              "      border: none;\n",
              "      border-radius: 50%;\n",
              "      cursor: pointer;\n",
              "      display: none;\n",
              "      fill: #1967D2;\n",
              "      height: 32px;\n",
              "      padding: 0 0 0 0;\n",
              "      width: 32px;\n",
              "    }\n",
              "\n",
              "    .colab-df-convert:hover {\n",
              "      background-color: #E2EBFA;\n",
              "      box-shadow: 0px 1px 2px rgba(60, 64, 67, 0.3), 0px 1px 3px 1px rgba(60, 64, 67, 0.15);\n",
              "      fill: #174EA6;\n",
              "    }\n",
              "\n",
              "    [theme=dark] .colab-df-convert {\n",
              "      background-color: #3B4455;\n",
              "      fill: #D2E3FC;\n",
              "    }\n",
              "\n",
              "    [theme=dark] .colab-df-convert:hover {\n",
              "      background-color: #434B5C;\n",
              "      box-shadow: 0px 1px 3px 1px rgba(0, 0, 0, 0.15);\n",
              "      filter: drop-shadow(0px 1px 2px rgba(0, 0, 0, 0.3));\n",
              "      fill: #FFFFFF;\n",
              "    }\n",
              "  </style>\n",
              "\n",
              "      <script>\n",
              "        const buttonEl =\n",
              "          document.querySelector('#df-6a9cf36d-a165-4ba1-9fa7-38805dfc0c69 button.colab-df-convert');\n",
              "        buttonEl.style.display =\n",
              "          google.colab.kernel.accessAllowed ? 'block' : 'none';\n",
              "\n",
              "        async function convertToInteractive(key) {\n",
              "          const element = document.querySelector('#df-6a9cf36d-a165-4ba1-9fa7-38805dfc0c69');\n",
              "          const dataTable =\n",
              "            await google.colab.kernel.invokeFunction('convertToInteractive',\n",
              "                                                     [key], {});\n",
              "          if (!dataTable) return;\n",
              "\n",
              "          const docLinkHtml = 'Like what you see? Visit the ' +\n",
              "            '<a target=\"_blank\" href=https://colab.research.google.com/notebooks/data_table.ipynb>data table notebook</a>'\n",
              "            + ' to learn more about interactive tables.';\n",
              "          element.innerHTML = '';\n",
              "          dataTable['output_type'] = 'display_data';\n",
              "          await google.colab.output.renderOutput(dataTable, element);\n",
              "          const docLink = document.createElement('div');\n",
              "          docLink.innerHTML = docLinkHtml;\n",
              "          element.appendChild(docLink);\n",
              "        }\n",
              "      </script>\n",
              "    </div>\n",
              "  </div>\n",
              "  "
            ]
          },
          "metadata": {},
          "execution_count": 37
        }
      ]
    },
    {
      "cell_type": "code",
      "source": [
        "df.tail()"
      ],
      "metadata": {
        "colab": {
          "base_uri": "https://localhost:8080/",
          "height": 206
        },
        "id": "eTmL2eXzf8_j",
        "outputId": "943b1e7e-045d-44bd-b6d6-f767be43765f"
      },
      "execution_count": 38,
      "outputs": [
        {
          "output_type": "execute_result",
          "data": {
            "text/plain": [
              "             Date      Time          Name Size     Type  Price\n",
              "49569  2015-12-20  13:45:27  spinach_supr    L  supreme  20.75\n",
              "49570  2015-12-20  18:28:25  spinach_supr    L  supreme  20.75\n",
              "49571  2015-12-21  22:07:07  spinach_supr    L  supreme  20.75\n",
              "49572  2015-12-28  12:38:57  spinach_supr    L  supreme  20.75\n",
              "49573  2015-12-30  12:45:20  spinach_supr    L  supreme  20.75"
            ],
            "text/html": [
              "\n",
              "  <div id=\"df-8b28925b-98b2-483d-bb4c-c207d08a7070\">\n",
              "    <div class=\"colab-df-container\">\n",
              "      <div>\n",
              "<style scoped>\n",
              "    .dataframe tbody tr th:only-of-type {\n",
              "        vertical-align: middle;\n",
              "    }\n",
              "\n",
              "    .dataframe tbody tr th {\n",
              "        vertical-align: top;\n",
              "    }\n",
              "\n",
              "    .dataframe thead th {\n",
              "        text-align: right;\n",
              "    }\n",
              "</style>\n",
              "<table border=\"1\" class=\"dataframe\">\n",
              "  <thead>\n",
              "    <tr style=\"text-align: right;\">\n",
              "      <th></th>\n",
              "      <th>Date</th>\n",
              "      <th>Time</th>\n",
              "      <th>Name</th>\n",
              "      <th>Size</th>\n",
              "      <th>Type</th>\n",
              "      <th>Price</th>\n",
              "    </tr>\n",
              "  </thead>\n",
              "  <tbody>\n",
              "    <tr>\n",
              "      <th>49569</th>\n",
              "      <td>2015-12-20</td>\n",
              "      <td>13:45:27</td>\n",
              "      <td>spinach_supr</td>\n",
              "      <td>L</td>\n",
              "      <td>supreme</td>\n",
              "      <td>20.75</td>\n",
              "    </tr>\n",
              "    <tr>\n",
              "      <th>49570</th>\n",
              "      <td>2015-12-20</td>\n",
              "      <td>18:28:25</td>\n",
              "      <td>spinach_supr</td>\n",
              "      <td>L</td>\n",
              "      <td>supreme</td>\n",
              "      <td>20.75</td>\n",
              "    </tr>\n",
              "    <tr>\n",
              "      <th>49571</th>\n",
              "      <td>2015-12-21</td>\n",
              "      <td>22:07:07</td>\n",
              "      <td>spinach_supr</td>\n",
              "      <td>L</td>\n",
              "      <td>supreme</td>\n",
              "      <td>20.75</td>\n",
              "    </tr>\n",
              "    <tr>\n",
              "      <th>49572</th>\n",
              "      <td>2015-12-28</td>\n",
              "      <td>12:38:57</td>\n",
              "      <td>spinach_supr</td>\n",
              "      <td>L</td>\n",
              "      <td>supreme</td>\n",
              "      <td>20.75</td>\n",
              "    </tr>\n",
              "    <tr>\n",
              "      <th>49573</th>\n",
              "      <td>2015-12-30</td>\n",
              "      <td>12:45:20</td>\n",
              "      <td>spinach_supr</td>\n",
              "      <td>L</td>\n",
              "      <td>supreme</td>\n",
              "      <td>20.75</td>\n",
              "    </tr>\n",
              "  </tbody>\n",
              "</table>\n",
              "</div>\n",
              "      <button class=\"colab-df-convert\" onclick=\"convertToInteractive('df-8b28925b-98b2-483d-bb4c-c207d08a7070')\"\n",
              "              title=\"Convert this dataframe to an interactive table.\"\n",
              "              style=\"display:none;\">\n",
              "        \n",
              "  <svg xmlns=\"http://www.w3.org/2000/svg\" height=\"24px\"viewBox=\"0 0 24 24\"\n",
              "       width=\"24px\">\n",
              "    <path d=\"M0 0h24v24H0V0z\" fill=\"none\"/>\n",
              "    <path d=\"M18.56 5.44l.94 2.06.94-2.06 2.06-.94-2.06-.94-.94-2.06-.94 2.06-2.06.94zm-11 1L8.5 8.5l.94-2.06 2.06-.94-2.06-.94L8.5 2.5l-.94 2.06-2.06.94zm10 10l.94 2.06.94-2.06 2.06-.94-2.06-.94-.94-2.06-.94 2.06-2.06.94z\"/><path d=\"M17.41 7.96l-1.37-1.37c-.4-.4-.92-.59-1.43-.59-.52 0-1.04.2-1.43.59L10.3 9.45l-7.72 7.72c-.78.78-.78 2.05 0 2.83L4 21.41c.39.39.9.59 1.41.59.51 0 1.02-.2 1.41-.59l7.78-7.78 2.81-2.81c.8-.78.8-2.07 0-2.86zM5.41 20L4 18.59l7.72-7.72 1.47 1.35L5.41 20z\"/>\n",
              "  </svg>\n",
              "      </button>\n",
              "      \n",
              "  <style>\n",
              "    .colab-df-container {\n",
              "      display:flex;\n",
              "      flex-wrap:wrap;\n",
              "      gap: 12px;\n",
              "    }\n",
              "\n",
              "    .colab-df-convert {\n",
              "      background-color: #E8F0FE;\n",
              "      border: none;\n",
              "      border-radius: 50%;\n",
              "      cursor: pointer;\n",
              "      display: none;\n",
              "      fill: #1967D2;\n",
              "      height: 32px;\n",
              "      padding: 0 0 0 0;\n",
              "      width: 32px;\n",
              "    }\n",
              "\n",
              "    .colab-df-convert:hover {\n",
              "      background-color: #E2EBFA;\n",
              "      box-shadow: 0px 1px 2px rgba(60, 64, 67, 0.3), 0px 1px 3px 1px rgba(60, 64, 67, 0.15);\n",
              "      fill: #174EA6;\n",
              "    }\n",
              "\n",
              "    [theme=dark] .colab-df-convert {\n",
              "      background-color: #3B4455;\n",
              "      fill: #D2E3FC;\n",
              "    }\n",
              "\n",
              "    [theme=dark] .colab-df-convert:hover {\n",
              "      background-color: #434B5C;\n",
              "      box-shadow: 0px 1px 3px 1px rgba(0, 0, 0, 0.15);\n",
              "      filter: drop-shadow(0px 1px 2px rgba(0, 0, 0, 0.3));\n",
              "      fill: #FFFFFF;\n",
              "    }\n",
              "  </style>\n",
              "\n",
              "      <script>\n",
              "        const buttonEl =\n",
              "          document.querySelector('#df-8b28925b-98b2-483d-bb4c-c207d08a7070 button.colab-df-convert');\n",
              "        buttonEl.style.display =\n",
              "          google.colab.kernel.accessAllowed ? 'block' : 'none';\n",
              "\n",
              "        async function convertToInteractive(key) {\n",
              "          const element = document.querySelector('#df-8b28925b-98b2-483d-bb4c-c207d08a7070');\n",
              "          const dataTable =\n",
              "            await google.colab.kernel.invokeFunction('convertToInteractive',\n",
              "                                                     [key], {});\n",
              "          if (!dataTable) return;\n",
              "\n",
              "          const docLinkHtml = 'Like what you see? Visit the ' +\n",
              "            '<a target=\"_blank\" href=https://colab.research.google.com/notebooks/data_table.ipynb>data table notebook</a>'\n",
              "            + ' to learn more about interactive tables.';\n",
              "          element.innerHTML = '';\n",
              "          dataTable['output_type'] = 'display_data';\n",
              "          await google.colab.output.renderOutput(dataTable, element);\n",
              "          const docLink = document.createElement('div');\n",
              "          docLink.innerHTML = docLinkHtml;\n",
              "          element.appendChild(docLink);\n",
              "        }\n",
              "      </script>\n",
              "    </div>\n",
              "  </div>\n",
              "  "
            ]
          },
          "metadata": {},
          "execution_count": 38
        }
      ]
    },
    {
      "cell_type": "markdown",
      "source": [
        "##**Data Cleaning**"
      ],
      "metadata": {
        "id": "BexLJTWV1Xuz"
      }
    },
    {
      "cell_type": "code",
      "source": [
        "df.info()"
      ],
      "metadata": {
        "colab": {
          "base_uri": "https://localhost:8080/"
        },
        "id": "TPVDa5IvHqbQ",
        "outputId": "f39ffd55-d12a-4411-b880-5321bb70a66f"
      },
      "execution_count": 39,
      "outputs": [
        {
          "output_type": "stream",
          "name": "stdout",
          "text": [
            "<class 'pandas.core.frame.DataFrame'>\n",
            "RangeIndex: 49574 entries, 0 to 49573\n",
            "Data columns (total 6 columns):\n",
            " #   Column  Non-Null Count  Dtype  \n",
            "---  ------  --------------  -----  \n",
            " 0   Date    49574 non-null  object \n",
            " 1   Time    49574 non-null  object \n",
            " 2   Name    49574 non-null  object \n",
            " 3   Size    49574 non-null  object \n",
            " 4   Type    49574 non-null  object \n",
            " 5   Price   49574 non-null  float64\n",
            "dtypes: float64(1), object(5)\n",
            "memory usage: 2.3+ MB\n"
          ]
        }
      ]
    },
    {
      "cell_type": "code",
      "source": [
        "#Mencari missing values\n",
        "df.isnull().sum()"
      ],
      "metadata": {
        "colab": {
          "base_uri": "https://localhost:8080/"
        },
        "id": "83aLtB8efnJz",
        "outputId": "6ae964b9-739d-40c5-9aa3-0dd90a6a0e7c"
      },
      "execution_count": 40,
      "outputs": [
        {
          "output_type": "execute_result",
          "data": {
            "text/plain": [
              "Date     0\n",
              "Time     0\n",
              "Name     0\n",
              "Size     0\n",
              "Type     0\n",
              "Price    0\n",
              "dtype: int64"
            ]
          },
          "metadata": {},
          "execution_count": 40
        }
      ]
    },
    {
      "cell_type": "code",
      "source": [
        "#Mengatasi missing value dengan menghapusnya\n",
        "dfclean = df.dropna()\n",
        "dfclean"
      ],
      "metadata": {
        "colab": {
          "base_uri": "https://localhost:8080/",
          "height": 423
        },
        "id": "BFZ3PERUH6Vl",
        "outputId": "b9548d50-3244-46b5-80da-a86f3076e85a"
      },
      "execution_count": 41,
      "outputs": [
        {
          "output_type": "execute_result",
          "data": {
            "text/plain": [
              "             Date      Time          Name Size     Type  Price\n",
              "0      2015-01-01  12:29:36       bbq_ckn    S  chicken  12.75\n",
              "1      2015-01-02  17:54:04       bbq_ckn    S  chicken  12.75\n",
              "2      2015-01-02  20:12:34       bbq_ckn    S  chicken  12.75\n",
              "3      2015-01-03  21:21:24       bbq_ckn    S  chicken  12.75\n",
              "4      2015-01-04  12:12:05       bbq_ckn    S  chicken  12.75\n",
              "...           ...       ...           ...  ...      ...    ...\n",
              "49569  2015-12-20  13:45:27  spinach_supr    L  supreme  20.75\n",
              "49570  2015-12-20  18:28:25  spinach_supr    L  supreme  20.75\n",
              "49571  2015-12-21  22:07:07  spinach_supr    L  supreme  20.75\n",
              "49572  2015-12-28  12:38:57  spinach_supr    L  supreme  20.75\n",
              "49573  2015-12-30  12:45:20  spinach_supr    L  supreme  20.75\n",
              "\n",
              "[49574 rows x 6 columns]"
            ],
            "text/html": [
              "\n",
              "  <div id=\"df-9f2d493e-177c-44e5-9d56-ac63d31cd3f1\">\n",
              "    <div class=\"colab-df-container\">\n",
              "      <div>\n",
              "<style scoped>\n",
              "    .dataframe tbody tr th:only-of-type {\n",
              "        vertical-align: middle;\n",
              "    }\n",
              "\n",
              "    .dataframe tbody tr th {\n",
              "        vertical-align: top;\n",
              "    }\n",
              "\n",
              "    .dataframe thead th {\n",
              "        text-align: right;\n",
              "    }\n",
              "</style>\n",
              "<table border=\"1\" class=\"dataframe\">\n",
              "  <thead>\n",
              "    <tr style=\"text-align: right;\">\n",
              "      <th></th>\n",
              "      <th>Date</th>\n",
              "      <th>Time</th>\n",
              "      <th>Name</th>\n",
              "      <th>Size</th>\n",
              "      <th>Type</th>\n",
              "      <th>Price</th>\n",
              "    </tr>\n",
              "  </thead>\n",
              "  <tbody>\n",
              "    <tr>\n",
              "      <th>0</th>\n",
              "      <td>2015-01-01</td>\n",
              "      <td>12:29:36</td>\n",
              "      <td>bbq_ckn</td>\n",
              "      <td>S</td>\n",
              "      <td>chicken</td>\n",
              "      <td>12.75</td>\n",
              "    </tr>\n",
              "    <tr>\n",
              "      <th>1</th>\n",
              "      <td>2015-01-02</td>\n",
              "      <td>17:54:04</td>\n",
              "      <td>bbq_ckn</td>\n",
              "      <td>S</td>\n",
              "      <td>chicken</td>\n",
              "      <td>12.75</td>\n",
              "    </tr>\n",
              "    <tr>\n",
              "      <th>2</th>\n",
              "      <td>2015-01-02</td>\n",
              "      <td>20:12:34</td>\n",
              "      <td>bbq_ckn</td>\n",
              "      <td>S</td>\n",
              "      <td>chicken</td>\n",
              "      <td>12.75</td>\n",
              "    </tr>\n",
              "    <tr>\n",
              "      <th>3</th>\n",
              "      <td>2015-01-03</td>\n",
              "      <td>21:21:24</td>\n",
              "      <td>bbq_ckn</td>\n",
              "      <td>S</td>\n",
              "      <td>chicken</td>\n",
              "      <td>12.75</td>\n",
              "    </tr>\n",
              "    <tr>\n",
              "      <th>4</th>\n",
              "      <td>2015-01-04</td>\n",
              "      <td>12:12:05</td>\n",
              "      <td>bbq_ckn</td>\n",
              "      <td>S</td>\n",
              "      <td>chicken</td>\n",
              "      <td>12.75</td>\n",
              "    </tr>\n",
              "    <tr>\n",
              "      <th>...</th>\n",
              "      <td>...</td>\n",
              "      <td>...</td>\n",
              "      <td>...</td>\n",
              "      <td>...</td>\n",
              "      <td>...</td>\n",
              "      <td>...</td>\n",
              "    </tr>\n",
              "    <tr>\n",
              "      <th>49569</th>\n",
              "      <td>2015-12-20</td>\n",
              "      <td>13:45:27</td>\n",
              "      <td>spinach_supr</td>\n",
              "      <td>L</td>\n",
              "      <td>supreme</td>\n",
              "      <td>20.75</td>\n",
              "    </tr>\n",
              "    <tr>\n",
              "      <th>49570</th>\n",
              "      <td>2015-12-20</td>\n",
              "      <td>18:28:25</td>\n",
              "      <td>spinach_supr</td>\n",
              "      <td>L</td>\n",
              "      <td>supreme</td>\n",
              "      <td>20.75</td>\n",
              "    </tr>\n",
              "    <tr>\n",
              "      <th>49571</th>\n",
              "      <td>2015-12-21</td>\n",
              "      <td>22:07:07</td>\n",
              "      <td>spinach_supr</td>\n",
              "      <td>L</td>\n",
              "      <td>supreme</td>\n",
              "      <td>20.75</td>\n",
              "    </tr>\n",
              "    <tr>\n",
              "      <th>49572</th>\n",
              "      <td>2015-12-28</td>\n",
              "      <td>12:38:57</td>\n",
              "      <td>spinach_supr</td>\n",
              "      <td>L</td>\n",
              "      <td>supreme</td>\n",
              "      <td>20.75</td>\n",
              "    </tr>\n",
              "    <tr>\n",
              "      <th>49573</th>\n",
              "      <td>2015-12-30</td>\n",
              "      <td>12:45:20</td>\n",
              "      <td>spinach_supr</td>\n",
              "      <td>L</td>\n",
              "      <td>supreme</td>\n",
              "      <td>20.75</td>\n",
              "    </tr>\n",
              "  </tbody>\n",
              "</table>\n",
              "<p>49574 rows × 6 columns</p>\n",
              "</div>\n",
              "      <button class=\"colab-df-convert\" onclick=\"convertToInteractive('df-9f2d493e-177c-44e5-9d56-ac63d31cd3f1')\"\n",
              "              title=\"Convert this dataframe to an interactive table.\"\n",
              "              style=\"display:none;\">\n",
              "        \n",
              "  <svg xmlns=\"http://www.w3.org/2000/svg\" height=\"24px\"viewBox=\"0 0 24 24\"\n",
              "       width=\"24px\">\n",
              "    <path d=\"M0 0h24v24H0V0z\" fill=\"none\"/>\n",
              "    <path d=\"M18.56 5.44l.94 2.06.94-2.06 2.06-.94-2.06-.94-.94-2.06-.94 2.06-2.06.94zm-11 1L8.5 8.5l.94-2.06 2.06-.94-2.06-.94L8.5 2.5l-.94 2.06-2.06.94zm10 10l.94 2.06.94-2.06 2.06-.94-2.06-.94-.94-2.06-.94 2.06-2.06.94z\"/><path d=\"M17.41 7.96l-1.37-1.37c-.4-.4-.92-.59-1.43-.59-.52 0-1.04.2-1.43.59L10.3 9.45l-7.72 7.72c-.78.78-.78 2.05 0 2.83L4 21.41c.39.39.9.59 1.41.59.51 0 1.02-.2 1.41-.59l7.78-7.78 2.81-2.81c.8-.78.8-2.07 0-2.86zM5.41 20L4 18.59l7.72-7.72 1.47 1.35L5.41 20z\"/>\n",
              "  </svg>\n",
              "      </button>\n",
              "      \n",
              "  <style>\n",
              "    .colab-df-container {\n",
              "      display:flex;\n",
              "      flex-wrap:wrap;\n",
              "      gap: 12px;\n",
              "    }\n",
              "\n",
              "    .colab-df-convert {\n",
              "      background-color: #E8F0FE;\n",
              "      border: none;\n",
              "      border-radius: 50%;\n",
              "      cursor: pointer;\n",
              "      display: none;\n",
              "      fill: #1967D2;\n",
              "      height: 32px;\n",
              "      padding: 0 0 0 0;\n",
              "      width: 32px;\n",
              "    }\n",
              "\n",
              "    .colab-df-convert:hover {\n",
              "      background-color: #E2EBFA;\n",
              "      box-shadow: 0px 1px 2px rgba(60, 64, 67, 0.3), 0px 1px 3px 1px rgba(60, 64, 67, 0.15);\n",
              "      fill: #174EA6;\n",
              "    }\n",
              "\n",
              "    [theme=dark] .colab-df-convert {\n",
              "      background-color: #3B4455;\n",
              "      fill: #D2E3FC;\n",
              "    }\n",
              "\n",
              "    [theme=dark] .colab-df-convert:hover {\n",
              "      background-color: #434B5C;\n",
              "      box-shadow: 0px 1px 3px 1px rgba(0, 0, 0, 0.15);\n",
              "      filter: drop-shadow(0px 1px 2px rgba(0, 0, 0, 0.3));\n",
              "      fill: #FFFFFF;\n",
              "    }\n",
              "  </style>\n",
              "\n",
              "      <script>\n",
              "        const buttonEl =\n",
              "          document.querySelector('#df-9f2d493e-177c-44e5-9d56-ac63d31cd3f1 button.colab-df-convert');\n",
              "        buttonEl.style.display =\n",
              "          google.colab.kernel.accessAllowed ? 'block' : 'none';\n",
              "\n",
              "        async function convertToInteractive(key) {\n",
              "          const element = document.querySelector('#df-9f2d493e-177c-44e5-9d56-ac63d31cd3f1');\n",
              "          const dataTable =\n",
              "            await google.colab.kernel.invokeFunction('convertToInteractive',\n",
              "                                                     [key], {});\n",
              "          if (!dataTable) return;\n",
              "\n",
              "          const docLinkHtml = 'Like what you see? Visit the ' +\n",
              "            '<a target=\"_blank\" href=https://colab.research.google.com/notebooks/data_table.ipynb>data table notebook</a>'\n",
              "            + ' to learn more about interactive tables.';\n",
              "          element.innerHTML = '';\n",
              "          dataTable['output_type'] = 'display_data';\n",
              "          await google.colab.output.renderOutput(dataTable, element);\n",
              "          const docLink = document.createElement('div');\n",
              "          docLink.innerHTML = docLinkHtml;\n",
              "          element.appendChild(docLink);\n",
              "        }\n",
              "      </script>\n",
              "    </div>\n",
              "  </div>\n",
              "  "
            ]
          },
          "metadata": {},
          "execution_count": 41
        }
      ]
    },
    {
      "cell_type": "code",
      "source": [
        "dfclean.info()"
      ],
      "metadata": {
        "colab": {
          "base_uri": "https://localhost:8080/"
        },
        "id": "XOpkOPunH_Ql",
        "outputId": "1779e722-69d1-4605-e329-f066118b7b94"
      },
      "execution_count": 42,
      "outputs": [
        {
          "output_type": "stream",
          "name": "stdout",
          "text": [
            "<class 'pandas.core.frame.DataFrame'>\n",
            "RangeIndex: 49574 entries, 0 to 49573\n",
            "Data columns (total 6 columns):\n",
            " #   Column  Non-Null Count  Dtype  \n",
            "---  ------  --------------  -----  \n",
            " 0   Date    49574 non-null  object \n",
            " 1   Time    49574 non-null  object \n",
            " 2   Name    49574 non-null  object \n",
            " 3   Size    49574 non-null  object \n",
            " 4   Type    49574 non-null  object \n",
            " 5   Price   49574 non-null  float64\n",
            "dtypes: float64(1), object(5)\n",
            "memory usage: 2.3+ MB\n"
          ]
        }
      ]
    },
    {
      "cell_type": "markdown",
      "source": [
        "Hasil analisa : tidak ada missing values pada data."
      ],
      "metadata": {
        "id": "VpW8Lr_GIKGg"
      }
    },
    {
      "cell_type": "markdown",
      "source": [
        "##**Analisis dan Perhitungan**"
      ],
      "metadata": {
        "id": "UrOQaLsc1omn"
      }
    },
    {
      "cell_type": "markdown",
      "source": [
        "###Menjawab poin pertanyaan nomor 1\n",
        "Total penjualan pizza di tahun 2015."
      ],
      "metadata": {
        "id": "hBsBXNL3GeFO"
      }
    },
    {
      "cell_type": "code",
      "source": [
        "df1 = dfclean.groupby(\"Name\")['Price'].sum()\n",
        "df1"
      ],
      "metadata": {
        "colab": {
          "base_uri": "https://localhost:8080/"
        },
        "id": "oyHe_x971umK",
        "outputId": "26865923-82a8-4e80-da3c-06454b3afa8b"
      },
      "execution_count": 43,
      "outputs": [
        {
          "output_type": "execute_result",
          "data": {
            "text/plain": [
              "Name\n",
              "bbq_ckn         42768.00\n",
              "big_meat        22968.00\n",
              "brie_carre      11588.50\n",
              "calabrese       15934.25\n",
              "cali_ckn        41409.50\n",
              "ckn_alfredo     16900.25\n",
              "ckn_pesto       16701.75\n",
              "classic_dlx     38180.50\n",
              "five_cheese     26066.50\n",
              "four_cheese     32265.70\n",
              "green_garden    13955.75\n",
              "hawaiian        32273.25\n",
              "ital_cpcllo     25094.00\n",
              "ital_supr       33476.75\n",
              "ital_veggie     16019.25\n",
              "mediterraneo    15360.50\n",
              "mexicana        26780.75\n",
              "napolitana      24087.00\n",
              "pep_msh_pep     18834.50\n",
              "pepperoni       30161.75\n",
              "peppr_salami    25529.00\n",
              "prsc_argla      24193.25\n",
              "sicilian        30940.50\n",
              "soppressata     16425.75\n",
              "southw_ckn      34705.75\n",
              "spicy_ital      34831.25\n",
              "spin_pesto      15596.00\n",
              "spinach_fet     23271.25\n",
              "spinach_supr    15277.75\n",
              "thai_ckn        43434.25\n",
              "the_greek       28454.10\n",
              "veggie_veg      24374.75\n",
              "Name: Price, dtype: float64"
            ]
          },
          "metadata": {},
          "execution_count": 43
        }
      ]
    },
    {
      "cell_type": "code",
      "source": [
        "#Visualisasi data menggunakan bar chart\n",
        "chart1 = df1.plot(kind='bar')\n",
        "plt.ylabel('Total Sales')\n",
        "chart1.set_title(\"Total Sales in 2015\")"
      ],
      "metadata": {
        "colab": {
          "base_uri": "https://localhost:8080/",
          "height": 572
        },
        "id": "1XBf90rPPQph",
        "outputId": "91f528ea-1306-4fa6-b88e-f7f0a9d23421"
      },
      "execution_count": 44,
      "outputs": [
        {
          "output_type": "execute_result",
          "data": {
            "text/plain": [
              "Text(0.5, 1.0, 'Total Sales in 2015')"
            ]
          },
          "metadata": {},
          "execution_count": 44
        },
        {
          "output_type": "display_data",
          "data": {
            "text/plain": [
              "<Figure size 640x480 with 1 Axes>"
            ],
            "image/png": "[encoded data removed]"
          },
          "metadata": {}
        }
      ]
    },
    {
      "cell_type": "code",
      "source": [
        "print(\"Total Sales:\",df1.sum())"
      ],
      "metadata": {
        "colab": {
          "base_uri": "https://localhost:8080/"
        },
        "id": "2HsT8U9TQVcO",
        "outputId": "8882bb38-35c5-43b2-fa6c-9469046851c0"
      },
      "execution_count": 45,
      "outputs": [
        {
          "output_type": "stream",
          "name": "stdout",
          "text": [
            "Total Sales: 817860.05\n"
          ]
        }
      ]
    },
    {
      "cell_type": "markdown",
      "source": [
        "Hasil analisa\n",
        "\n",
        "Total penjualan pizza selama tahun 2015 adalah $817860.05"
      ],
      "metadata": {
        "id": "2taWsKkKHFeV"
      }
    },
    {
      "cell_type": "markdown",
      "source": [
        "###Menjawab poin pertanyaan nomor 2\n",
        "Pizza apa yang paling banyak terjual dan paling sedikit terjual"
      ],
      "metadata": {
        "id": "Uz2nt9_ZGpBt"
      }
    },
    {
      "cell_type": "code",
      "source": [
        "df2 = dfclean[\"Name\"].value_counts()\n",
        "df2"
      ],
      "metadata": {
        "colab": {
          "base_uri": "https://localhost:8080/"
        },
        "id": "sK5jxpP-4taw",
        "outputId": "82268068-401e-4f44-cb98-3d033c2f3828"
      },
      "execution_count": 46,
      "outputs": [
        {
          "output_type": "execute_result",
          "data": {
            "text/plain": [
              "classic_dlx     2453\n",
              "bbq_ckn         2432\n",
              "hawaiian        2422\n",
              "pepperoni       2418\n",
              "thai_ckn        2371\n",
              "cali_ckn        2370\n",
              "sicilian        1938\n",
              "spicy_ital      1924\n",
              "southw_ckn      1917\n",
              "big_meat        1914\n",
              "four_cheese     1902\n",
              "ital_supr       1884\n",
              "veggie_veg      1526\n",
              "mexicana        1484\n",
              "napolitana      1464\n",
              "prsc_argla      1457\n",
              "spinach_fet     1446\n",
              "peppr_salami    1446\n",
              "ital_cpcllo     1438\n",
              "the_greek       1420\n",
              "five_cheese     1409\n",
              "pep_msh_pep     1359\n",
              "green_garden     997\n",
              "ckn_alfredo      987\n",
              "ital_veggie      981\n",
              "ckn_pesto        973\n",
              "spin_pesto       970\n",
              "soppressata      961\n",
              "spinach_supr     950\n",
              "calabrese        937\n",
              "mediterraneo     934\n",
              "brie_carre       490\n",
              "Name: Name, dtype: int64"
            ]
          },
          "metadata": {},
          "execution_count": 46
        }
      ]
    },
    {
      "cell_type": "code",
      "source": [
        "#Visualisasi data menggunakan pie chart\n",
        "chart2 = df2.plot(kind='pie')\n",
        "\n",
        "chart2.set_title(\"Most Sold & Least Sold in 2015\")"
      ],
      "metadata": {
        "colab": {
          "base_uri": "https://localhost:8080/",
          "height": 446
        },
        "id": "bXRMUqywQjza",
        "outputId": "81b778d2-cd4f-4807-93db-62b7b6eede7a"
      },
      "execution_count": 47,
      "outputs": [
        {
          "output_type": "execute_result",
          "data": {
            "text/plain": [
              "Text(0.5, 1.0, 'Most Sold & Least Sold in 2015')"
            ]
          },
          "metadata": {},
          "execution_count": 47
        },
        {
          "output_type": "display_data",
          "data": {
            "text/plain": [
              "<Figure size 640x480 with 1 Axes>"
            ],
            "image/png": "[encoded data removed]"
          },
          "metadata": {}
        }
      ]
    },
    {
      "cell_type": "code",
      "source": [
        "print(\"Total Pizza yang terjual:\",df2.sum())\n",
        "print(\"Pizza yang terjual paling banyak:\",df2.max(),\"yaitu classic_dlx\")\n",
        "print(\"Pizza yang terjual paling sedikit:\",df2.min(),\"yaitu brie_carre\")"
      ],
      "metadata": {
        "colab": {
          "base_uri": "https://localhost:8080/"
        },
        "id": "S0jv0xtUKtpT",
        "outputId": "74fb1be2-5b57-425b-e927-3b82a45b26e0"
      },
      "execution_count": 48,
      "outputs": [
        {
          "output_type": "stream",
          "name": "stdout",
          "text": [
            "Total Pizza yang terjual: 49574\n",
            "Pizza yang terjual paling banyak: 2453 yaitu classic_dlx\n",
            "Pizza yang terjual paling sedikit: 490 yaitu brie_carre\n"
          ]
        }
      ]
    },
    {
      "cell_type": "markdown",
      "source": [
        "Hasil analisa\n",
        "\n",
        "Total pizza yang terjual selama tahun 2015 sebanyak 49574 dengan Pizza classic_dlx sebagai pizza yang terjual paling banyak dengan total penjualan sebanyak 2453 pizza dan Pizza brie_carre sebagai pizza yang paling sedikit terjual dengan total penjualan 490 pizza."
      ],
      "metadata": {
        "id": "ZjIZg_WDKw-w"
      }
    },
    {
      "cell_type": "markdown",
      "source": [
        "###Menjawab poin pertanyaan nomor 3\n",
        "Type Pizza yang memberikan paling banyak penjualan"
      ],
      "metadata": {
        "id": "twpPOjU8Gr8l"
      }
    },
    {
      "cell_type": "code",
      "source": [
        "df3 = dfclean.groupby(df[\"Type\"]).sum().sort_values('Price')\n",
        "df3\n",
        "     "
      ],
      "metadata": {
        "colab": {
          "base_uri": "https://localhost:8080/",
          "height": 262
        },
        "id": "KmG1-jte5umr",
        "outputId": "c129b25a-0f38-4078-b36a-16452eb948fa"
      },
      "execution_count": 49,
      "outputs": [
        {
          "output_type": "stream",
          "name": "stderr",
          "text": [
            "<ipython-input-49-9ec4dbb1ae62>:1: FutureWarning: The default value of numeric_only in DataFrameGroupBy.sum is deprecated. In a future version, numeric_only will default to False. Either specify numeric_only or select only columns which should be valid for the function.\n",
            "  df3 = dfclean.groupby(df[\"Type\"]).sum().sort_values('Price')\n"
          ]
        },
        {
          "output_type": "execute_result",
          "data": {
            "text/plain": [
              "             Price\n",
              "Type              \n",
              "veggie   193690.45\n",
              "chicken  195919.50\n",
              "supreme  208197.00\n",
              "classic  220053.10"
            ],
            "text/html": [
              "\n",
              "  <div id=\"df-d8a7b2b6-02bd-4937-bc64-3e9fe82a5827\">\n",
              "    <div class=\"colab-df-container\">\n",
              "      <div>\n",
              "<style scoped>\n",
              "    .dataframe tbody tr th:only-of-type {\n",
              "        vertical-align: middle;\n",
              "    }\n",
              "\n",
              "    .dataframe tbody tr th {\n",
              "        vertical-align: top;\n",
              "    }\n",
              "\n",
              "    .dataframe thead th {\n",
              "        text-align: right;\n",
              "    }\n",
              "</style>\n",
              "<table border=\"1\" class=\"dataframe\">\n",
              "  <thead>\n",
              "    <tr style=\"text-align: right;\">\n",
              "      <th></th>\n",
              "      <th>Price</th>\n",
              "    </tr>\n",
              "    <tr>\n",
              "      <th>Type</th>\n",
              "      <th></th>\n",
              "    </tr>\n",
              "  </thead>\n",
              "  <tbody>\n",
              "    <tr>\n",
              "      <th>veggie</th>\n",
              "      <td>193690.45</td>\n",
              "    </tr>\n",
              "    <tr>\n",
              "      <th>chicken</th>\n",
              "      <td>195919.50</td>\n",
              "    </tr>\n",
              "    <tr>\n",
              "      <th>supreme</th>\n",
              "      <td>208197.00</td>\n",
              "    </tr>\n",
              "    <tr>\n",
              "      <th>classic</th>\n",
              "      <td>220053.10</td>\n",
              "    </tr>\n",
              "  </tbody>\n",
              "</table>\n",
              "</div>\n",
              "      <button class=\"colab-df-convert\" onclick=\"convertToInteractive('df-d8a7b2b6-02bd-4937-bc64-3e9fe82a5827')\"\n",
              "              title=\"Convert this dataframe to an interactive table.\"\n",
              "              style=\"display:none;\">\n",
              "        \n",
              "  <svg xmlns=\"http://www.w3.org/2000/svg\" height=\"24px\"viewBox=\"0 0 24 24\"\n",
              "       width=\"24px\">\n",
              "    <path d=\"M0 0h24v24H0V0z\" fill=\"none\"/>\n",
              "    <path d=\"M18.56 5.44l.94 2.06.94-2.06 2.06-.94-2.06-.94-.94-2.06-.94 2.06-2.06.94zm-11 1L8.5 8.5l.94-2.06 2.06-.94-2.06-.94L8.5 2.5l-.94 2.06-2.06.94zm10 10l.94 2.06.94-2.06 2.06-.94-2.06-.94-.94-2.06-.94 2.06-2.06.94z\"/><path d=\"M17.41 7.96l-1.37-1.37c-.4-.4-.92-.59-1.43-.59-.52 0-1.04.2-1.43.59L10.3 9.45l-7.72 7.72c-.78.78-.78 2.05 0 2.83L4 21.41c.39.39.9.59 1.41.59.51 0 1.02-.2 1.41-.59l7.78-7.78 2.81-2.81c.8-.78.8-2.07 0-2.86zM5.41 20L4 18.59l7.72-7.72 1.47 1.35L5.41 20z\"/>\n",
              "  </svg>\n",
              "      </button>\n",
              "      \n",
              "  <style>\n",
              "    .colab-df-container {\n",
              "      display:flex;\n",
              "      flex-wrap:wrap;\n",
              "      gap: 12px;\n",
              "    }\n",
              "\n",
              "    .colab-df-convert {\n",
              "      background-color: #E8F0FE;\n",
              "      border: none;\n",
              "      border-radius: 50%;\n",
              "      cursor: pointer;\n",
              "      display: none;\n",
              "      fill: #1967D2;\n",
              "      height: 32px;\n",
              "      padding: 0 0 0 0;\n",
              "      width: 32px;\n",
              "    }\n",
              "\n",
              "    .colab-df-convert:hover {\n",
              "      background-color: #E2EBFA;\n",
              "      box-shadow: 0px 1px 2px rgba(60, 64, 67, 0.3), 0px 1px 3px 1px rgba(60, 64, 67, 0.15);\n",
              "      fill: #174EA6;\n",
              "    }\n",
              "\n",
              "    [theme=dark] .colab-df-convert {\n",
              "      background-color: #3B4455;\n",
              "      fill: #D2E3FC;\n",
              "    }\n",
              "\n",
              "    [theme=dark] .colab-df-convert:hover {\n",
              "      background-color: #434B5C;\n",
              "      box-shadow: 0px 1px 3px 1px rgba(0, 0, 0, 0.15);\n",
              "      filter: drop-shadow(0px 1px 2px rgba(0, 0, 0, 0.3));\n",
              "      fill: #FFFFFF;\n",
              "    }\n",
              "  </style>\n",
              "\n",
              "      <script>\n",
              "        const buttonEl =\n",
              "          document.querySelector('#df-d8a7b2b6-02bd-4937-bc64-3e9fe82a5827 button.colab-df-convert');\n",
              "        buttonEl.style.display =\n",
              "          google.colab.kernel.accessAllowed ? 'block' : 'none';\n",
              "\n",
              "        async function convertToInteractive(key) {\n",
              "          const element = document.querySelector('#df-d8a7b2b6-02bd-4937-bc64-3e9fe82a5827');\n",
              "          const dataTable =\n",
              "            await google.colab.kernel.invokeFunction('convertToInteractive',\n",
              "                                                     [key], {});\n",
              "          if (!dataTable) return;\n",
              "\n",
              "          const docLinkHtml = 'Like what you see? Visit the ' +\n",
              "            '<a target=\"_blank\" href=https://colab.research.google.com/notebooks/data_table.ipynb>data table notebook</a>'\n",
              "            + ' to learn more about interactive tables.';\n",
              "          element.innerHTML = '';\n",
              "          dataTable['output_type'] = 'display_data';\n",
              "          await google.colab.output.renderOutput(dataTable, element);\n",
              "          const docLink = document.createElement('div');\n",
              "          docLink.innerHTML = docLinkHtml;\n",
              "          element.appendChild(docLink);\n",
              "        }\n",
              "      </script>\n",
              "    </div>\n",
              "  </div>\n",
              "  "
            ]
          },
          "metadata": {},
          "execution_count": 49
        }
      ]
    },
    {
      "cell_type": "code",
      "source": [
        "df3.max()"
      ],
      "metadata": {
        "colab": {
          "base_uri": "https://localhost:8080/"
        },
        "id": "WnJUcrdUyJRe",
        "outputId": "598d861c-114f-479f-c7b2-5821aa553e64"
      },
      "execution_count": 50,
      "outputs": [
        {
          "output_type": "execute_result",
          "data": {
            "text/plain": [
              "Price    220053.1\n",
              "dtype: float64"
            ]
          },
          "metadata": {},
          "execution_count": 50
        }
      ]
    },
    {
      "cell_type": "code",
      "source": [
        "#Visualisasi data menggunakan line chart\n",
        "plt.figure(figsize=(10,8))\n",
        "df3.groupby(['Type'])['Price'].sum().plot(kind='bar')\n",
        "plt.ylabel('Total Sales')\n",
        "plt.show()"
      ],
      "metadata": {
        "colab": {
          "base_uri": "https://localhost:8080/",
          "height": 743
        },
        "id": "GaSxxrADfkxZ",
        "outputId": "bc4e0f54-595c-4572-b51b-789e779c14e0"
      },
      "execution_count": 51,
      "outputs": [
        {
          "output_type": "display_data",
          "data": {
            "text/plain": [
              "<Figure size 1000x800 with 1 Axes>"
            ],
            "image/png": "[encoded data removed]"
          },
          "metadata": {}
        }
      ]
    },
    {
      "cell_type": "markdown",
      "source": [
        "Hasil analisa\n",
        "\n",
        "Type Pizza yang memberikan paling banyak penjualan adalah type classic dengan total penjualan $220053.1"
      ],
      "metadata": {
        "id": "qwRjPUb4zDXd"
      }
    },
    {
      "cell_type": "markdown",
      "source": [
        "###Menjawab poin pertanyaan nomor 4\n",
        "Mencari tahu size dan type pizza apa yang paling banyak terjual"
      ],
      "metadata": {
        "id": "7VPkKfofGtQb"
      }
    },
    {
      "cell_type": "code",
      "source": [
        "df4 = dfclean.groupby(['Type', 'Size']).aggregate(\n",
        "    {'Price': 'sum', 'Price': ['sum']}\n",
        ")\n",
        "df4"
      ],
      "metadata": {
        "colab": {
          "base_uri": "https://localhost:8080/",
          "height": 551
        },
        "id": "lGsiAJ8f0I7D",
        "outputId": "2fc07573-1e7a-4485-a50a-7f71997b8311"
      },
      "execution_count": 52,
      "outputs": [
        {
          "output_type": "execute_result",
          "data": {
            "text/plain": [
              "                  Price\n",
              "                    sum\n",
              "Type    Size           \n",
              "chicken L     102339.00\n",
              "        M      65224.50\n",
              "        S      28356.00\n",
              "classic L      74518.50\n",
              "        M      60581.75\n",
              "        S      69870.25\n",
              "        XL     14076.00\n",
              "        XXL     1006.60\n",
              "supreme L      94258.50\n",
              "        M      66475.00\n",
              "        S      47463.50\n",
              "veggie  L     104202.70\n",
              "        M      57101.00\n",
              "        S      32386.75"
            ],
            "text/html": [
              "\n",
              "  <div id=\"df-f7914a2d-1b1e-4558-93c4-f7550d155483\">\n",
              "    <div class=\"colab-df-container\">\n",
              "      <div>\n",
              "<style scoped>\n",
              "    .dataframe tbody tr th:only-of-type {\n",
              "        vertical-align: middle;\n",
              "    }\n",
              "\n",
              "    .dataframe tbody tr th {\n",
              "        vertical-align: top;\n",
              "    }\n",
              "\n",
              "    .dataframe thead tr th {\n",
              "        text-align: left;\n",
              "    }\n",
              "\n",
              "    .dataframe thead tr:last-of-type th {\n",
              "        text-align: right;\n",
              "    }\n",
              "</style>\n",
              "<table border=\"1\" class=\"dataframe\">\n",
              "  <thead>\n",
              "    <tr>\n",
              "      <th></th>\n",
              "      <th></th>\n",
              "      <th>Price</th>\n",
              "    </tr>\n",
              "    <tr>\n",
              "      <th></th>\n",
              "      <th></th>\n",
              "      <th>sum</th>\n",
              "    </tr>\n",
              "    <tr>\n",
              "      <th>Type</th>\n",
              "      <th>Size</th>\n",
              "      <th></th>\n",
              "    </tr>\n",
              "  </thead>\n",
              "  <tbody>\n",
              "    <tr>\n",
              "      <th rowspan=\"3\" valign=\"top\">chicken</th>\n",
              "      <th>L</th>\n",
              "      <td>102339.00</td>\n",
              "    </tr>\n",
              "    <tr>\n",
              "      <th>M</th>\n",
              "      <td>65224.50</td>\n",
              "    </tr>\n",
              "    <tr>\n",
              "      <th>S</th>\n",
              "      <td>28356.00</td>\n",
              "    </tr>\n",
              "    <tr>\n",
              "      <th rowspan=\"5\" valign=\"top\">classic</th>\n",
              "      <th>L</th>\n",
              "      <td>74518.50</td>\n",
              "    </tr>\n",
              "    <tr>\n",
              "      <th>M</th>\n",
              "      <td>60581.75</td>\n",
              "    </tr>\n",
              "    <tr>\n",
              "      <th>S</th>\n",
              "      <td>69870.25</td>\n",
              "    </tr>\n",
              "    <tr>\n",
              "      <th>XL</th>\n",
              "      <td>14076.00</td>\n",
              "    </tr>\n",
              "    <tr>\n",
              "      <th>XXL</th>\n",
              "      <td>1006.60</td>\n",
              "    </tr>\n",
              "    <tr>\n",
              "      <th rowspan=\"3\" valign=\"top\">supreme</th>\n",
              "      <th>L</th>\n",
              "      <td>94258.50</td>\n",
              "    </tr>\n",
              "    <tr>\n",
              "      <th>M</th>\n",
              "      <td>66475.00</td>\n",
              "    </tr>\n",
              "    <tr>\n",
              "      <th>S</th>\n",
              "      <td>47463.50</td>\n",
              "    </tr>\n",
              "    <tr>\n",
              "      <th rowspan=\"3\" valign=\"top\">veggie</th>\n",
              "      <th>L</th>\n",
              "      <td>104202.70</td>\n",
              "    </tr>\n",
              "    <tr>\n",
              "      <th>M</th>\n",
              "      <td>57101.00</td>\n",
              "    </tr>\n",
              "    <tr>\n",
              "      <th>S</th>\n",
              "      <td>32386.75</td>\n",
              "    </tr>\n",
              "  </tbody>\n",
              "</table>\n",
              "</div>\n",
              "      <button class=\"colab-df-convert\" onclick=\"convertToInteractive('df-f7914a2d-1b1e-4558-93c4-f7550d155483')\"\n",
              "              title=\"Convert this dataframe to an interactive table.\"\n",
              "              style=\"display:none;\">\n",
              "        \n",
              "  <svg xmlns=\"http://www.w3.org/2000/svg\" height=\"24px\"viewBox=\"0 0 24 24\"\n",
              "       width=\"24px\">\n",
              "    <path d=\"M0 0h24v24H0V0z\" fill=\"none\"/>\n",
              "    <path d=\"M18.56 5.44l.94 2.06.94-2.06 2.06-.94-2.06-.94-.94-2.06-.94 2.06-2.06.94zm-11 1L8.5 8.5l.94-2.06 2.06-.94-2.06-.94L8.5 2.5l-.94 2.06-2.06.94zm10 10l.94 2.06.94-2.06 2.06-.94-2.06-.94-.94-2.06-.94 2.06-2.06.94z\"/><path d=\"M17.41 7.96l-1.37-1.37c-.4-.4-.92-.59-1.43-.59-.52 0-1.04.2-1.43.59L10.3 9.45l-7.72 7.72c-.78.78-.78 2.05 0 2.83L4 21.41c.39.39.9.59 1.41.59.51 0 1.02-.2 1.41-.59l7.78-7.78 2.81-2.81c.8-.78.8-2.07 0-2.86zM5.41 20L4 18.59l7.72-7.72 1.47 1.35L5.41 20z\"/>\n",
              "  </svg>\n",
              "      </button>\n",
              "      \n",
              "  <style>\n",
              "    .colab-df-container {\n",
              "      display:flex;\n",
              "      flex-wrap:wrap;\n",
              "      gap: 12px;\n",
              "    }\n",
              "\n",
              "    .colab-df-convert {\n",
              "      background-color: #E8F0FE;\n",
              "      border: none;\n",
              "      border-radius: 50%;\n",
              "      cursor: pointer;\n",
              "      display: none;\n",
              "      fill: #1967D2;\n",
              "      height: 32px;\n",
              "      padding: 0 0 0 0;\n",
              "      width: 32px;\n",
              "    }\n",
              "\n",
              "    .colab-df-convert:hover {\n",
              "      background-color: #E2EBFA;\n",
              "      box-shadow: 0px 1px 2px rgba(60, 64, 67, 0.3), 0px 1px 3px 1px rgba(60, 64, 67, 0.15);\n",
              "      fill: #174EA6;\n",
              "    }\n",
              "\n",
              "    [theme=dark] .colab-df-convert {\n",
              "      background-color: #3B4455;\n",
              "      fill: #D2E3FC;\n",
              "    }\n",
              "\n",
              "    [theme=dark] .colab-df-convert:hover {\n",
              "      background-color: #434B5C;\n",
              "      box-shadow: 0px 1px 3px 1px rgba(0, 0, 0, 0.15);\n",
              "      filter: drop-shadow(0px 1px 2px rgba(0, 0, 0, 0.3));\n",
              "      fill: #FFFFFF;\n",
              "    }\n",
              "  </style>\n",
              "\n",
              "      <script>\n",
              "        const buttonEl =\n",
              "          document.querySelector('#df-f7914a2d-1b1e-4558-93c4-f7550d155483 button.colab-df-convert');\n",
              "        buttonEl.style.display =\n",
              "          google.colab.kernel.accessAllowed ? 'block' : 'none';\n",
              "\n",
              "        async function convertToInteractive(key) {\n",
              "          const element = document.querySelector('#df-f7914a2d-1b1e-4558-93c4-f7550d155483');\n",
              "          const dataTable =\n",
              "            await google.colab.kernel.invokeFunction('convertToInteractive',\n",
              "                                                     [key], {});\n",
              "          if (!dataTable) return;\n",
              "\n",
              "          const docLinkHtml = 'Like what you see? Visit the ' +\n",
              "            '<a target=\"_blank\" href=https://colab.research.google.com/notebooks/data_table.ipynb>data table notebook</a>'\n",
              "            + ' to learn more about interactive tables.';\n",
              "          element.innerHTML = '';\n",
              "          dataTable['output_type'] = 'display_data';\n",
              "          await google.colab.output.renderOutput(dataTable, element);\n",
              "          const docLink = document.createElement('div');\n",
              "          docLink.innerHTML = docLinkHtml;\n",
              "          element.appendChild(docLink);\n",
              "        }\n",
              "      </script>\n",
              "    </div>\n",
              "  </div>\n",
              "  "
            ]
          },
          "metadata": {},
          "execution_count": 52
        }
      ]
    },
    {
      "cell_type": "code",
      "source": [
        "df4.max()"
      ],
      "metadata": {
        "colab": {
          "base_uri": "https://localhost:8080/"
        },
        "id": "Pui8TTtG2ap0",
        "outputId": "aac1fa32-1ff6-4efd-d387-0e4819409507"
      },
      "execution_count": 53,
      "outputs": [
        {
          "output_type": "execute_result",
          "data": {
            "text/plain": [
              "Price  sum    104202.7\n",
              "dtype: float64"
            ]
          },
          "metadata": {},
          "execution_count": 53
        }
      ]
    },
    {
      "cell_type": "code",
      "source": [
        "#Visualisasi data menggunakan bar chart\n",
        "chart4 = df4.plot(kind='bar')\n",
        "chart4.set_title(\"Total Sales by Size and Type in 2015\")\n",
        "plt.ylabel('Total Sales')"
      ],
      "metadata": {
        "colab": {
          "base_uri": "https://localhost:8080/",
          "height": 568
        },
        "id": "0yyiKMZs-tJf",
        "outputId": "0ab73259-5fc5-482b-9f70-43dcda6f68a3"
      },
      "execution_count": 54,
      "outputs": [
        {
          "output_type": "execute_result",
          "data": {
            "text/plain": [
              "Text(0, 0.5, 'Total Sales')"
            ]
          },
          "metadata": {},
          "execution_count": 54
        },
        {
          "output_type": "display_data",
          "data": {
            "text/plain": [
              "<Figure size 640x480 with 1 Axes>"
            ],
            "image/png": "[encoded data removed]"
          },
          "metadata": {}
        }
      ]
    },
    {
      "cell_type": "markdown",
      "source": [
        "Hasil analisa\n",
        "\n",
        "Size pizza dan type pizza yang paling banyak terjual adalah type veggie dengan size L dengan total penjualan $104202.70"
      ],
      "metadata": {
        "id": "SnNxij9d2ELs"
      }
    },
    {
      "cell_type": "markdown",
      "source": [
        "###Menjawab poin pertanyaan nomor 5\n",
        "Mencari tahu di bulan apa terdapat penjualan terbanyak di tahun 2015"
      ],
      "metadata": {
        "id": "3vwe_dBIGuyE"
      }
    },
    {
      "cell_type": "code",
      "source": [
        "#Menambah column Month agar lebih mudah untuk dihitung\n",
        "dfclean['Month'] = dfclean['Date'].str[5:7]\n",
        "dfclean"
      ],
      "metadata": {
        "colab": {
          "base_uri": "https://localhost:8080/",
          "height": 423
        },
        "id": "N_P6plzDD7Fr",
        "outputId": "df2d05f3-8162-4fe1-c29c-70ff4b78348d"
      },
      "execution_count": 55,
      "outputs": [
        {
          "output_type": "execute_result",
          "data": {
            "text/plain": [
              "             Date      Time          Name Size     Type  Price Month\n",
              "0      2015-01-01  12:29:36       bbq_ckn    S  chicken  12.75    01\n",
              "1      2015-01-02  17:54:04       bbq_ckn    S  chicken  12.75    01\n",
              "2      2015-01-02  20:12:34       bbq_ckn    S  chicken  12.75    01\n",
              "3      2015-01-03  21:21:24       bbq_ckn    S  chicken  12.75    01\n",
              "4      2015-01-04  12:12:05       bbq_ckn    S  chicken  12.75    01\n",
              "...           ...       ...           ...  ...      ...    ...   ...\n",
              "49569  2015-12-20  13:45:27  spinach_supr    L  supreme  20.75    12\n",
              "49570  2015-12-20  18:28:25  spinach_supr    L  supreme  20.75    12\n",
              "49571  2015-12-21  22:07:07  spinach_supr    L  supreme  20.75    12\n",
              "49572  2015-12-28  12:38:57  spinach_supr    L  supreme  20.75    12\n",
              "49573  2015-12-30  12:45:20  spinach_supr    L  supreme  20.75    12\n",
              "\n",
              "[49574 rows x 7 columns]"
            ],
            "text/html": [
              "\n",
              "  <div id=\"df-c7888e11-e89b-433f-97f7-498cbd310e55\">\n",
              "    <div class=\"colab-df-container\">\n",
              "      <div>\n",
              "<style scoped>\n",
              "    .dataframe tbody tr th:only-of-type {\n",
              "        vertical-align: middle;\n",
              "    }\n",
              "\n",
              "    .dataframe tbody tr th {\n",
              "        vertical-align: top;\n",
              "    }\n",
              "\n",
              "    .dataframe thead th {\n",
              "        text-align: right;\n",
              "    }\n",
              "</style>\n",
              "<table border=\"1\" class=\"dataframe\">\n",
              "  <thead>\n",
              "    <tr style=\"text-align: right;\">\n",
              "      <th></th>\n",
              "      <th>Date</th>\n",
              "      <th>Time</th>\n",
              "      <th>Name</th>\n",
              "      <th>Size</th>\n",
              "      <th>Type</th>\n",
              "      <th>Price</th>\n",
              "      <th>Month</th>\n",
              "    </tr>\n",
              "  </thead>\n",
              "  <tbody>\n",
              "    <tr>\n",
              "      <th>0</th>\n",
              "      <td>2015-01-01</td>\n",
              "      <td>12:29:36</td>\n",
              "      <td>bbq_ckn</td>\n",
              "      <td>S</td>\n",
              "      <td>chicken</td>\n",
              "      <td>12.75</td>\n",
              "      <td>01</td>\n",
              "    </tr>\n",
              "    <tr>\n",
              "      <th>1</th>\n",
              "      <td>2015-01-02</td>\n",
              "      <td>17:54:04</td>\n",
              "      <td>bbq_ckn</td>\n",
              "      <td>S</td>\n",
              "      <td>chicken</td>\n",
              "      <td>12.75</td>\n",
              "      <td>01</td>\n",
              "    </tr>\n",
              "    <tr>\n",
              "      <th>2</th>\n",
              "      <td>2015-01-02</td>\n",
              "      <td>20:12:34</td>\n",
              "      <td>bbq_ckn</td>\n",
              "      <td>S</td>\n",
              "      <td>chicken</td>\n",
              "      <td>12.75</td>\n",
              "      <td>01</td>\n",
              "    </tr>\n",
              "    <tr>\n",
              "      <th>3</th>\n",
              "      <td>2015-01-03</td>\n",
              "      <td>21:21:24</td>\n",
              "      <td>bbq_ckn</td>\n",
              "      <td>S</td>\n",
              "      <td>chicken</td>\n",
              "      <td>12.75</td>\n",
              "      <td>01</td>\n",
              "    </tr>\n",
              "    <tr>\n",
              "      <th>4</th>\n",
              "      <td>2015-01-04</td>\n",
              "      <td>12:12:05</td>\n",
              "      <td>bbq_ckn</td>\n",
              "      <td>S</td>\n",
              "      <td>chicken</td>\n",
              "      <td>12.75</td>\n",
              "      <td>01</td>\n",
              "    </tr>\n",
              "    <tr>\n",
              "      <th>...</th>\n",
              "      <td>...</td>\n",
              "      <td>...</td>\n",
              "      <td>...</td>\n",
              "      <td>...</td>\n",
              "      <td>...</td>\n",
              "      <td>...</td>\n",
              "      <td>...</td>\n",
              "    </tr>\n",
              "    <tr>\n",
              "      <th>49569</th>\n",
              "      <td>2015-12-20</td>\n",
              "      <td>13:45:27</td>\n",
              "      <td>spinach_supr</td>\n",
              "      <td>L</td>\n",
              "      <td>supreme</td>\n",
              "      <td>20.75</td>\n",
              "      <td>12</td>\n",
              "    </tr>\n",
              "    <tr>\n",
              "      <th>49570</th>\n",
              "      <td>2015-12-20</td>\n",
              "      <td>18:28:25</td>\n",
              "      <td>spinach_supr</td>\n",
              "      <td>L</td>\n",
              "      <td>supreme</td>\n",
              "      <td>20.75</td>\n",
              "      <td>12</td>\n",
              "    </tr>\n",
              "    <tr>\n",
              "      <th>49571</th>\n",
              "      <td>2015-12-21</td>\n",
              "      <td>22:07:07</td>\n",
              "      <td>spinach_supr</td>\n",
              "      <td>L</td>\n",
              "      <td>supreme</td>\n",
              "      <td>20.75</td>\n",
              "      <td>12</td>\n",
              "    </tr>\n",
              "    <tr>\n",
              "      <th>49572</th>\n",
              "      <td>2015-12-28</td>\n",
              "      <td>12:38:57</td>\n",
              "      <td>spinach_supr</td>\n",
              "      <td>L</td>\n",
              "      <td>supreme</td>\n",
              "      <td>20.75</td>\n",
              "      <td>12</td>\n",
              "    </tr>\n",
              "    <tr>\n",
              "      <th>49573</th>\n",
              "      <td>2015-12-30</td>\n",
              "      <td>12:45:20</td>\n",
              "      <td>spinach_supr</td>\n",
              "      <td>L</td>\n",
              "      <td>supreme</td>\n",
              "      <td>20.75</td>\n",
              "      <td>12</td>\n",
              "    </tr>\n",
              "  </tbody>\n",
              "</table>\n",
              "<p>49574 rows × 7 columns</p>\n",
              "</div>\n",
              "      <button class=\"colab-df-convert\" onclick=\"convertToInteractive('df-c7888e11-e89b-433f-97f7-498cbd310e55')\"\n",
              "              title=\"Convert this dataframe to an interactive table.\"\n",
              "              style=\"display:none;\">\n",
              "        \n",
              "  <svg xmlns=\"http://www.w3.org/2000/svg\" height=\"24px\"viewBox=\"0 0 24 24\"\n",
              "       width=\"24px\">\n",
              "    <path d=\"M0 0h24v24H0V0z\" fill=\"none\"/>\n",
              "    <path d=\"M18.56 5.44l.94 2.06.94-2.06 2.06-.94-2.06-.94-.94-2.06-.94 2.06-2.06.94zm-11 1L8.5 8.5l.94-2.06 2.06-.94-2.06-.94L8.5 2.5l-.94 2.06-2.06.94zm10 10l.94 2.06.94-2.06 2.06-.94-2.06-.94-.94-2.06-.94 2.06-2.06.94z\"/><path d=\"M17.41 7.96l-1.37-1.37c-.4-.4-.92-.59-1.43-.59-.52 0-1.04.2-1.43.59L10.3 9.45l-7.72 7.72c-.78.78-.78 2.05 0 2.83L4 21.41c.39.39.9.59 1.41.59.51 0 1.02-.2 1.41-.59l7.78-7.78 2.81-2.81c.8-.78.8-2.07 0-2.86zM5.41 20L4 18.59l7.72-7.72 1.47 1.35L5.41 20z\"/>\n",
              "  </svg>\n",
              "      </button>\n",
              "      \n",
              "  <style>\n",
              "    .colab-df-container {\n",
              "      display:flex;\n",
              "      flex-wrap:wrap;\n",
              "      gap: 12px;\n",
              "    }\n",
              "\n",
              "    .colab-df-convert {\n",
              "      background-color: #E8F0FE;\n",
              "      border: none;\n",
              "      border-radius: 50%;\n",
              "      cursor: pointer;\n",
              "      display: none;\n",
              "      fill: #1967D2;\n",
              "      height: 32px;\n",
              "      padding: 0 0 0 0;\n",
              "      width: 32px;\n",
              "    }\n",
              "\n",
              "    .colab-df-convert:hover {\n",
              "      background-color: #E2EBFA;\n",
              "      box-shadow: 0px 1px 2px rgba(60, 64, 67, 0.3), 0px 1px 3px 1px rgba(60, 64, 67, 0.15);\n",
              "      fill: #174EA6;\n",
              "    }\n",
              "\n",
              "    [theme=dark] .colab-df-convert {\n",
              "      background-color: #3B4455;\n",
              "      fill: #D2E3FC;\n",
              "    }\n",
              "\n",
              "    [theme=dark] .colab-df-convert:hover {\n",
              "      background-color: #434B5C;\n",
              "      box-shadow: 0px 1px 3px 1px rgba(0, 0, 0, 0.15);\n",
              "      filter: drop-shadow(0px 1px 2px rgba(0, 0, 0, 0.3));\n",
              "      fill: #FFFFFF;\n",
              "    }\n",
              "  </style>\n",
              "\n",
              "      <script>\n",
              "        const buttonEl =\n",
              "          document.querySelector('#df-c7888e11-e89b-433f-97f7-498cbd310e55 button.colab-df-convert');\n",
              "        buttonEl.style.display =\n",
              "          google.colab.kernel.accessAllowed ? 'block' : 'none';\n",
              "\n",
              "        async function convertToInteractive(key) {\n",
              "          const element = document.querySelector('#df-c7888e11-e89b-433f-97f7-498cbd310e55');\n",
              "          const dataTable =\n",
              "            await google.colab.kernel.invokeFunction('convertToInteractive',\n",
              "                                                     [key], {});\n",
              "          if (!dataTable) return;\n",
              "\n",
              "          const docLinkHtml = 'Like what you see? Visit the ' +\n",
              "            '<a target=\"_blank\" href=https://colab.research.google.com/notebooks/data_table.ipynb>data table notebook</a>'\n",
              "            + ' to learn more about interactive tables.';\n",
              "          element.innerHTML = '';\n",
              "          dataTable['output_type'] = 'display_data';\n",
              "          await google.colab.output.renderOutput(dataTable, element);\n",
              "          const docLink = document.createElement('div');\n",
              "          docLink.innerHTML = docLinkHtml;\n",
              "          element.appendChild(docLink);\n",
              "        }\n",
              "      </script>\n",
              "    </div>\n",
              "  </div>\n",
              "  "
            ]
          },
          "metadata": {},
          "execution_count": 55
        }
      ]
    },
    {
      "cell_type": "code",
      "source": [
        "df5 = dfclean.groupby(\"Month\").sum()\n",
        "df5"
      ],
      "metadata": {
        "colab": {
          "base_uri": "https://localhost:8080/",
          "height": 513
        },
        "id": "zGV5CsclDsev",
        "outputId": "4d33b0e8-5e00-477e-ca96-0412a67b5e2d"
      },
      "execution_count": 56,
      "outputs": [
        {
          "output_type": "stream",
          "name": "stderr",
          "text": [
            "<ipython-input-56-55029114db2b>:1: FutureWarning: The default value of numeric_only in DataFrameGroupBy.sum is deprecated. In a future version, numeric_only will default to False. Either specify numeric_only or select only columns which should be valid for the function.\n",
            "  df5 = dfclean.groupby(\"Month\").sum()\n"
          ]
        },
        {
          "output_type": "execute_result",
          "data": {
            "text/plain": [
              "          Price\n",
              "Month          \n",
              "01     69793.30\n",
              "02     65159.60\n",
              "03     70397.10\n",
              "04     68736.80\n",
              "05     71402.75\n",
              "06     68230.20\n",
              "07     72557.90\n",
              "08     68278.25\n",
              "09     64180.05\n",
              "10     64027.60\n",
              "11     70395.35\n",
              "12     64701.15"
            ],
            "text/html": [
              "\n",
              "  <div id=\"df-4c3e8308-9068-403e-8f20-7bba44886f3e\">\n",
              "    <div class=\"colab-df-container\">\n",
              "      <div>\n",
              "<style scoped>\n",
              "    .dataframe tbody tr th:only-of-type {\n",
              "        vertical-align: middle;\n",
              "    }\n",
              "\n",
              "    .dataframe tbody tr th {\n",
              "        vertical-align: top;\n",
              "    }\n",
              "\n",
              "    .dataframe thead th {\n",
              "        text-align: right;\n",
              "    }\n",
              "</style>\n",
              "<table border=\"1\" class=\"dataframe\">\n",
              "  <thead>\n",
              "    <tr style=\"text-align: right;\">\n",
              "      <th></th>\n",
              "      <th>Price</th>\n",
              "    </tr>\n",
              "    <tr>\n",
              "      <th>Month</th>\n",
              "      <th></th>\n",
              "    </tr>\n",
              "  </thead>\n",
              "  <tbody>\n",
              "    <tr>\n",
              "      <th>01</th>\n",
              "      <td>69793.30</td>\n",
              "    </tr>\n",
              "    <tr>\n",
              "      <th>02</th>\n",
              "      <td>65159.60</td>\n",
              "    </tr>\n",
              "    <tr>\n",
              "      <th>03</th>\n",
              "      <td>70397.10</td>\n",
              "    </tr>\n",
              "    <tr>\n",
              "      <th>04</th>\n",
              "      <td>68736.80</td>\n",
              "    </tr>\n",
              "    <tr>\n",
              "      <th>05</th>\n",
              "      <td>71402.75</td>\n",
              "    </tr>\n",
              "    <tr>\n",
              "      <th>06</th>\n",
              "      <td>68230.20</td>\n",
              "    </tr>\n",
              "    <tr>\n",
              "      <th>07</th>\n",
              "      <td>72557.90</td>\n",
              "    </tr>\n",
              "    <tr>\n",
              "      <th>08</th>\n",
              "      <td>68278.25</td>\n",
              "    </tr>\n",
              "    <tr>\n",
              "      <th>09</th>\n",
              "      <td>64180.05</td>\n",
              "    </tr>\n",
              "    <tr>\n",
              "      <th>10</th>\n",
              "      <td>64027.60</td>\n",
              "    </tr>\n",
              "    <tr>\n",
              "      <th>11</th>\n",
              "      <td>70395.35</td>\n",
              "    </tr>\n",
              "    <tr>\n",
              "      <th>12</th>\n",
              "      <td>64701.15</td>\n",
              "    </tr>\n",
              "  </tbody>\n",
              "</table>\n",
              "</div>\n",
              "      <button class=\"colab-df-convert\" onclick=\"convertToInteractive('df-4c3e8308-9068-403e-8f20-7bba44886f3e')\"\n",
              "              title=\"Convert this dataframe to an interactive table.\"\n",
              "              style=\"display:none;\">\n",
              "        \n",
              "  <svg xmlns=\"http://www.w3.org/2000/svg\" height=\"24px\"viewBox=\"0 0 24 24\"\n",
              "       width=\"24px\">\n",
              "    <path d=\"M0 0h24v24H0V0z\" fill=\"none\"/>\n",
              "    <path d=\"M18.56 5.44l.94 2.06.94-2.06 2.06-.94-2.06-.94-.94-2.06-.94 2.06-2.06.94zm-11 1L8.5 8.5l.94-2.06 2.06-.94-2.06-.94L8.5 2.5l-.94 2.06-2.06.94zm10 10l.94 2.06.94-2.06 2.06-.94-2.06-.94-.94-2.06-.94 2.06-2.06.94z\"/><path d=\"M17.41 7.96l-1.37-1.37c-.4-.4-.92-.59-1.43-.59-.52 0-1.04.2-1.43.59L10.3 9.45l-7.72 7.72c-.78.78-.78 2.05 0 2.83L4 21.41c.39.39.9.59 1.41.59.51 0 1.02-.2 1.41-.59l7.78-7.78 2.81-2.81c.8-.78.8-2.07 0-2.86zM5.41 20L4 18.59l7.72-7.72 1.47 1.35L5.41 20z\"/>\n",
              "  </svg>\n",
              "      </button>\n",
              "      \n",
              "  <style>\n",
              "    .colab-df-container {\n",
              "      display:flex;\n",
              "      flex-wrap:wrap;\n",
              "      gap: 12px;\n",
              "    }\n",
              "\n",
              "    .colab-df-convert {\n",
              "      background-color: #E8F0FE;\n",
              "      border: none;\n",
              "      border-radius: 50%;\n",
              "      cursor: pointer;\n",
              "      display: none;\n",
              "      fill: #1967D2;\n",
              "      height: 32px;\n",
              "      padding: 0 0 0 0;\n",
              "      width: 32px;\n",
              "    }\n",
              "\n",
              "    .colab-df-convert:hover {\n",
              "      background-color: #E2EBFA;\n",
              "      box-shadow: 0px 1px 2px rgba(60, 64, 67, 0.3), 0px 1px 3px 1px rgba(60, 64, 67, 0.15);\n",
              "      fill: #174EA6;\n",
              "    }\n",
              "\n",
              "    [theme=dark] .colab-df-convert {\n",
              "      background-color: #3B4455;\n",
              "      fill: #D2E3FC;\n",
              "    }\n",
              "\n",
              "    [theme=dark] .colab-df-convert:hover {\n",
              "      background-color: #434B5C;\n",
              "      box-shadow: 0px 1px 3px 1px rgba(0, 0, 0, 0.15);\n",
              "      filter: drop-shadow(0px 1px 2px rgba(0, 0, 0, 0.3));\n",
              "      fill: #FFFFFF;\n",
              "    }\n",
              "  </style>\n",
              "\n",
              "      <script>\n",
              "        const buttonEl =\n",
              "          document.querySelector('#df-4c3e8308-9068-403e-8f20-7bba44886f3e button.colab-df-convert');\n",
              "        buttonEl.style.display =\n",
              "          google.colab.kernel.accessAllowed ? 'block' : 'none';\n",
              "\n",
              "        async function convertToInteractive(key) {\n",
              "          const element = document.querySelector('#df-4c3e8308-9068-403e-8f20-7bba44886f3e');\n",
              "          const dataTable =\n",
              "            await google.colab.kernel.invokeFunction('convertToInteractive',\n",
              "                                                     [key], {});\n",
              "          if (!dataTable) return;\n",
              "\n",
              "          const docLinkHtml = 'Like what you see? Visit the ' +\n",
              "            '<a target=\"_blank\" href=https://colab.research.google.com/notebooks/data_table.ipynb>data table notebook</a>'\n",
              "            + ' to learn more about interactive tables.';\n",
              "          element.innerHTML = '';\n",
              "          dataTable['output_type'] = 'display_data';\n",
              "          await google.colab.output.renderOutput(dataTable, element);\n",
              "          const docLink = document.createElement('div');\n",
              "          docLink.innerHTML = docLinkHtml;\n",
              "          element.appendChild(docLink);\n",
              "        }\n",
              "      </script>\n",
              "    </div>\n",
              "  </div>\n",
              "  "
            ]
          },
          "metadata": {},
          "execution_count": 56
        }
      ]
    },
    {
      "cell_type": "code",
      "source": [
        "#Visualisasi data menggunakan area plot\n",
        "chart5 = df5.plot(kind='area')\n",
        "chart5.set_title(\"Total Sales by Size and Type in 2015\")\n",
        "plt.ylabel('Total Sales')"
      ],
      "metadata": {
        "colab": {
          "base_uri": "https://localhost:8080/",
          "height": 490
        },
        "id": "MEoRjELMIQza",
        "outputId": "9af06c2b-c246-4a70-8042-47d64532d213"
      },
      "execution_count": 57,
      "outputs": [
        {
          "output_type": "execute_result",
          "data": {
            "text/plain": [
              "Text(0, 0.5, 'Total Sales')"
            ]
          },
          "metadata": {},
          "execution_count": 57
        },
        {
          "output_type": "display_data",
          "data": {
            "text/plain": [
              "<Figure size 640x480 with 1 Axes>"
            ],
            "image/png": "[encoded data removed]"
          },
          "metadata": {}
        }
      ]
    },
    {
      "cell_type": "markdown",
      "source": [
        "Hasil analisa\n",
        "\n",
        "Penjualan terbanyak di tahun 2015 terdapat di bulan Juli dengan total penjualan $72557.90"
      ],
      "metadata": {
        "id": "Kh79qnCqKe0t"
      }
    },
    {
      "cell_type": "markdown",
      "source": [
        "###Menjawab poin pertanyaan nomor 6\n",
        " Memeriksa distribusi data Type pizza yang paling banyak terjual."
      ],
      "metadata": {
        "id": "XOqD0EHEGz1y"
      }
    },
    {
      "cell_type": "code",
      "source": [
        "#Memeriksa distribusi data Type pizza classic\n",
        "df6 = dfclean[dfclean[\"Type\"] == \"classic\"].reset_index(drop=True)\n",
        "df6.sort_values('Price')"
      ],
      "metadata": {
        "colab": {
          "base_uri": "https://localhost:8080/",
          "height": 423
        },
        "id": "qHLyMopwMGqX",
        "outputId": "0da83b1c-4525-4f85-f951-12aeed57cd2f"
      },
      "execution_count": 58,
      "outputs": [
        {
          "output_type": "execute_result",
          "data": {
            "text/plain": [
              "            Date      Time       Name Size     Type  Price Month\n",
              "5275  2015-01-01  15:50:18  pepperoni    S  classic   9.75    01\n",
              "5772  2015-08-29  14:41:12  pepperoni    S  classic   9.75    08\n",
              "5773  2015-08-30  15:14:36  pepperoni    S  classic   9.75    08\n",
              "5774  2015-08-30  17:19:48  pepperoni    S  classic   9.75    08\n",
              "5775  2015-08-30  18:03:56  pepperoni    S  classic   9.75    08\n",
              "...          ...       ...        ...  ...      ...    ...   ...\n",
              "8148  2015-02-13  13:52:26  the_greek  XXL  classic  35.95    02\n",
              "8147  2015-01-27  16:28:38  the_greek  XXL  classic  35.95    01\n",
              "8146  2015-01-26  15:24:38  the_greek  XXL  classic  35.95    01\n",
              "8160  2015-05-31  18:31:11  the_greek  XXL  classic  35.95    05\n",
              "8149  2015-02-16  18:15:02  the_greek  XXL  classic  35.95    02\n",
              "\n",
              "[14888 rows x 7 columns]"
            ],
            "text/html": [
              "\n",
              "  <div id=\"df-7fc0127c-fcdb-4cfe-b737-b770366c9d39\">\n",
              "    <div class=\"colab-df-container\">\n",
              "      <div>\n",
              "<style scoped>\n",
              "    .dataframe tbody tr th:only-of-type {\n",
              "        vertical-align: middle;\n",
              "    }\n",
              "\n",
              "    .dataframe tbody tr th {\n",
              "        vertical-align: top;\n",
              "    }\n",
              "\n",
              "    .dataframe thead th {\n",
              "        text-align: right;\n",
              "    }\n",
              "</style>\n",
              "<table border=\"1\" class=\"dataframe\">\n",
              "  <thead>\n",
              "    <tr style=\"text-align: right;\">\n",
              "      <th></th>\n",
              "      <th>Date</th>\n",
              "      <th>Time</th>\n",
              "      <th>Name</th>\n",
              "      <th>Size</th>\n",
              "      <th>Type</th>\n",
              "      <th>Price</th>\n",
              "      <th>Month</th>\n",
              "    </tr>\n",
              "  </thead>\n",
              "  <tbody>\n",
              "    <tr>\n",
              "      <th>5275</th>\n",
              "      <td>2015-01-01</td>\n",
              "      <td>15:50:18</td>\n",
              "      <td>pepperoni</td>\n",
              "      <td>S</td>\n",
              "      <td>classic</td>\n",
              "      <td>9.75</td>\n",
              "      <td>01</td>\n",
              "    </tr>\n",
              "    <tr>\n",
              "      <th>5772</th>\n",
              "      <td>2015-08-29</td>\n",
              "      <td>14:41:12</td>\n",
              "      <td>pepperoni</td>\n",
              "      <td>S</td>\n",
              "      <td>classic</td>\n",
              "      <td>9.75</td>\n",
              "      <td>08</td>\n",
              "    </tr>\n",
              "    <tr>\n",
              "      <th>5773</th>\n",
              "      <td>2015-08-30</td>\n",
              "      <td>15:14:36</td>\n",
              "      <td>pepperoni</td>\n",
              "      <td>S</td>\n",
              "      <td>classic</td>\n",
              "      <td>9.75</td>\n",
              "      <td>08</td>\n",
              "    </tr>\n",
              "    <tr>\n",
              "      <th>5774</th>\n",
              "      <td>2015-08-30</td>\n",
              "      <td>17:19:48</td>\n",
              "      <td>pepperoni</td>\n",
              "      <td>S</td>\n",
              "      <td>classic</td>\n",
              "      <td>9.75</td>\n",
              "      <td>08</td>\n",
              "    </tr>\n",
              "    <tr>\n",
              "      <th>5775</th>\n",
              "      <td>2015-08-30</td>\n",
              "      <td>18:03:56</td>\n",
              "      <td>pepperoni</td>\n",
              "      <td>S</td>\n",
              "      <td>classic</td>\n",
              "      <td>9.75</td>\n",
              "      <td>08</td>\n",
              "    </tr>\n",
              "    <tr>\n",
              "      <th>...</th>\n",
              "      <td>...</td>\n",
              "      <td>...</td>\n",
              "      <td>...</td>\n",
              "      <td>...</td>\n",
              "      <td>...</td>\n",
              "      <td>...</td>\n",
              "      <td>...</td>\n",
              "    </tr>\n",
              "    <tr>\n",
              "      <th>8148</th>\n",
              "      <td>2015-02-13</td>\n",
              "      <td>13:52:26</td>\n",
              "      <td>the_greek</td>\n",
              "      <td>XXL</td>\n",
              "      <td>classic</td>\n",
              "      <td>35.95</td>\n",
              "      <td>02</td>\n",
              "    </tr>\n",
              "    <tr>\n",
              "      <th>8147</th>\n",
              "      <td>2015-01-27</td>\n",
              "      <td>16:28:38</td>\n",
              "      <td>the_greek</td>\n",
              "      <td>XXL</td>\n",
              "      <td>classic</td>\n",
              "      <td>35.95</td>\n",
              "      <td>01</td>\n",
              "    </tr>\n",
              "    <tr>\n",
              "      <th>8146</th>\n",
              "      <td>2015-01-26</td>\n",
              "      <td>15:24:38</td>\n",
              "      <td>the_greek</td>\n",
              "      <td>XXL</td>\n",
              "      <td>classic</td>\n",
              "      <td>35.95</td>\n",
              "      <td>01</td>\n",
              "    </tr>\n",
              "    <tr>\n",
              "      <th>8160</th>\n",
              "      <td>2015-05-31</td>\n",
              "      <td>18:31:11</td>\n",
              "      <td>the_greek</td>\n",
              "      <td>XXL</td>\n",
              "      <td>classic</td>\n",
              "      <td>35.95</td>\n",
              "      <td>05</td>\n",
              "    </tr>\n",
              "    <tr>\n",
              "      <th>8149</th>\n",
              "      <td>2015-02-16</td>\n",
              "      <td>18:15:02</td>\n",
              "      <td>the_greek</td>\n",
              "      <td>XXL</td>\n",
              "      <td>classic</td>\n",
              "      <td>35.95</td>\n",
              "      <td>02</td>\n",
              "    </tr>\n",
              "  </tbody>\n",
              "</table>\n",
              "<p>14888 rows × 7 columns</p>\n",
              "</div>\n",
              "      <button class=\"colab-df-convert\" onclick=\"convertToInteractive('df-7fc0127c-fcdb-4cfe-b737-b770366c9d39')\"\n",
              "              title=\"Convert this dataframe to an interactive table.\"\n",
              "              style=\"display:none;\">\n",
              "        \n",
              "  <svg xmlns=\"http://www.w3.org/2000/svg\" height=\"24px\"viewBox=\"0 0 24 24\"\n",
              "       width=\"24px\">\n",
              "    <path d=\"M0 0h24v24H0V0z\" fill=\"none\"/>\n",
              "    <path d=\"M18.56 5.44l.94 2.06.94-2.06 2.06-.94-2.06-.94-.94-2.06-.94 2.06-2.06.94zm-11 1L8.5 8.5l.94-2.06 2.06-.94-2.06-.94L8.5 2.5l-.94 2.06-2.06.94zm10 10l.94 2.06.94-2.06 2.06-.94-2.06-.94-.94-2.06-.94 2.06-2.06.94z\"/><path d=\"M17.41 7.96l-1.37-1.37c-.4-.4-.92-.59-1.43-.59-.52 0-1.04.2-1.43.59L10.3 9.45l-7.72 7.72c-.78.78-.78 2.05 0 2.83L4 21.41c.39.39.9.59 1.41.59.51 0 1.02-.2 1.41-.59l7.78-7.78 2.81-2.81c.8-.78.8-2.07 0-2.86zM5.41 20L4 18.59l7.72-7.72 1.47 1.35L5.41 20z\"/>\n",
              "  </svg>\n",
              "      </button>\n",
              "      \n",
              "  <style>\n",
              "    .colab-df-container {\n",
              "      display:flex;\n",
              "      flex-wrap:wrap;\n",
              "      gap: 12px;\n",
              "    }\n",
              "\n",
              "    .colab-df-convert {\n",
              "      background-color: #E8F0FE;\n",
              "      border: none;\n",
              "      border-radius: 50%;\n",
              "      cursor: pointer;\n",
              "      display: none;\n",
              "      fill: #1967D2;\n",
              "      height: 32px;\n",
              "      padding: 0 0 0 0;\n",
              "      width: 32px;\n",
              "    }\n",
              "\n",
              "    .colab-df-convert:hover {\n",
              "      background-color: #E2EBFA;\n",
              "      box-shadow: 0px 1px 2px rgba(60, 64, 67, 0.3), 0px 1px 3px 1px rgba(60, 64, 67, 0.15);\n",
              "      fill: #174EA6;\n",
              "    }\n",
              "\n",
              "    [theme=dark] .colab-df-convert {\n",
              "      background-color: #3B4455;\n",
              "      fill: #D2E3FC;\n",
              "    }\n",
              "\n",
              "    [theme=dark] .colab-df-convert:hover {\n",
              "      background-color: #434B5C;\n",
              "      box-shadow: 0px 1px 3px 1px rgba(0, 0, 0, 0.15);\n",
              "      filter: drop-shadow(0px 1px 2px rgba(0, 0, 0, 0.3));\n",
              "      fill: #FFFFFF;\n",
              "    }\n",
              "  </style>\n",
              "\n",
              "      <script>\n",
              "        const buttonEl =\n",
              "          document.querySelector('#df-7fc0127c-fcdb-4cfe-b737-b770366c9d39 button.colab-df-convert');\n",
              "        buttonEl.style.display =\n",
              "          google.colab.kernel.accessAllowed ? 'block' : 'none';\n",
              "\n",
              "        async function convertToInteractive(key) {\n",
              "          const element = document.querySelector('#df-7fc0127c-fcdb-4cfe-b737-b770366c9d39');\n",
              "          const dataTable =\n",
              "            await google.colab.kernel.invokeFunction('convertToInteractive',\n",
              "                                                     [key], {});\n",
              "          if (!dataTable) return;\n",
              "\n",
              "          const docLinkHtml = 'Like what you see? Visit the ' +\n",
              "            '<a target=\"_blank\" href=https://colab.research.google.com/notebooks/data_table.ipynb>data table notebook</a>'\n",
              "            + ' to learn more about interactive tables.';\n",
              "          element.innerHTML = '';\n",
              "          dataTable['output_type'] = 'display_data';\n",
              "          await google.colab.output.renderOutput(dataTable, element);\n",
              "          const docLink = document.createElement('div');\n",
              "          docLink.innerHTML = docLinkHtml;\n",
              "          element.appendChild(docLink);\n",
              "        }\n",
              "      </script>\n",
              "    </div>\n",
              "  </div>\n",
              "  "
            ]
          },
          "metadata": {},
          "execution_count": 58
        }
      ]
    },
    {
      "cell_type": "code",
      "source": [
        "#Memeriksa tingkat skewness\n",
        "print('Skewness:',df6['Price'].skew())"
      ],
      "metadata": {
        "colab": {
          "base_uri": "https://localhost:8080/"
        },
        "id": "4r6mPeJuMU90",
        "outputId": "304bb865-5276-4fc3-b6db-02552df223f8"
      },
      "execution_count": 59,
      "outputs": [
        {
          "output_type": "stream",
          "name": "stdout",
          "text": [
            "Skewness: 1.1307372143179995\n"
          ]
        }
      ]
    },
    {
      "cell_type": "code",
      "source": [
        "df6['Price'].plot(kind='box', title='Price Distribution', figsize=(10,8))\n",
        "plt.show() "
      ],
      "metadata": {
        "colab": {
          "base_uri": "https://localhost:8080/",
          "height": 699
        },
        "id": "IrCzsms0MNZk",
        "outputId": "c6aac0c0-3890-4a46-d702-77c296a8c40e"
      },
      "execution_count": 60,
      "outputs": [
        {
          "output_type": "display_data",
          "data": {
            "text/plain": [
              "<Figure size 1000x800 with 1 Axes>"
            ],
            "image/png": "[encoded data removed]"
          },
          "metadata": {}
        }
      ]
    },
    {
      "cell_type": "markdown",
      "source": [
        "Terdapat 2 oultier dari visualisasi di atas yang artinya ada 2 harga yang bisa dikatakan sangat jauh berbeda dengan harga yang lainnya."
      ],
      "metadata": {
        "id": "1_RHIN36d0pR"
      }
    },
    {
      "cell_type": "code",
      "source": [
        "#Mengitung berapa persen jumlah outlier\n",
        "Q1=df6['Price'].quantile(0.25)\n",
        "Q3=df6['Price'].quantile(0.75)\n",
        "print('Q1=', Q1)\n",
        "print('Q3=', Q3)\n",
        "\n",
        "#Menghitung IQR\n",
        "IQR = Q3-Q1\n",
        "print('IQR=',IQR)"
      ],
      "metadata": {
        "colab": {
          "base_uri": "https://localhost:8080/"
        },
        "id": "TjCV1e1O4_0H",
        "outputId": "af10131a-15ca-46fe-8ae7-33c9824d8842"
      },
      "execution_count": 61,
      "outputs": [
        {
          "output_type": "stream",
          "name": "stdout",
          "text": [
            "Q1= 12.0\n",
            "Q3= 16.5\n",
            "IQR= 4.5\n"
          ]
        }
      ]
    },
    {
      "cell_type": "code",
      "source": [
        "#Menghilangkan outlier\n",
        "upper_limit= Q3 + 1.5*IQR\n",
        "lower_limit= Q1 - 1.5*IQR\n",
        "\n",
        "df6clean=df6[(df6['Price'] <= upper_limit) | (df6['Price'] <= lower_limit)]"
      ],
      "metadata": {
        "id": "Pol7sNvo5OFD"
      },
      "execution_count": 62,
      "outputs": []
    },
    {
      "cell_type": "code",
      "source": [
        "#Melihat distribusi data baru\n",
        "df6clean['Price'].plot(kind='box', title='Price Distribution', figsize=(10,8))\n",
        "plt.show() "
      ],
      "metadata": {
        "colab": {
          "base_uri": "https://localhost:8080/",
          "height": 699
        },
        "id": "HZwn9H9Q5ZXU",
        "outputId": "a3e624a0-3fd4-400f-a54c-b3ca21ab0df0"
      },
      "execution_count": 63,
      "outputs": [
        {
          "output_type": "display_data",
          "data": {
            "text/plain": [
              "<Figure size 1000x800 with 1 Axes>"
            ],
            "image/png": "[encoded data removed]"
          },
          "metadata": {}
        }
      ]
    },
    {
      "cell_type": "markdown",
      "source": [
        "Hasil analisa\n",
        "\n",
        "Data sudah terdistribusi dengan baik setelah outlier dihilangkan."
      ],
      "metadata": {
        "id": "ryLyxcM8UHy2"
      }
    },
    {
      "cell_type": "markdown",
      "source": [
        "###Menjawab poin pertanyaan nomor 7\n",
        "Menghitung total penjualan yang harus didapatkan di cabang baru?"
      ],
      "metadata": {
        "id": "RmCGAbKoM9qh"
      }
    },
    {
      "cell_type": "code",
      "source": [
        "#Menghitung confidence interval dari jumlah sales per hari\n",
        "daily_sales = dfclean[['Time','Price']].groupby(dfclean['Date']).sum().sort_values('Date')\n",
        "ci= stats.norm.interval(0.90,daily_sales.Price.mean(), daily_sales.Price.std())\n",
        "ci"
      ],
      "metadata": {
        "colab": {
          "base_uri": "https://localhost:8080/"
        },
        "id": "tIzgVKJNa9zB",
        "outputId": "3e6f5493-615e-46d0-e6a0-717e06bcc7f6"
      },
      "execution_count": 64,
      "outputs": [
        {
          "output_type": "stream",
          "name": "stderr",
          "text": [
            "<ipython-input-64-27f4bc3be017>:2: FutureWarning: The default value of numeric_only in DataFrameGroupBy.sum is deprecated. In a future version, numeric_only will default to False. Either specify numeric_only or select only columns which should be valid for the function.\n",
            "  daily_sales = dfclean[['Time','Price']].groupby(dfclean['Date']).sum().sort_values('Date')\n"
          ]
        },
        {
          "output_type": "execute_result",
          "data": {
            "text/plain": [
              "(1616.8021394695825, 2952.2484191896347)"
            ]
          },
          "metadata": {},
          "execution_count": 64
        }
      ]
    },
    {
      "cell_type": "markdown",
      "source": [
        "Hasil analisa\n",
        "\n",
        "Bila ingin membuka cabang baru, sebaiknya cabang baru mampu mendapatkan penjualan per hari minimal $1616.80\n",
        "\n",
        "dan maksimal  $2952.24 untuk bisa menyamakan total penjualan per hari dari cabang pertama."
      ],
      "metadata": {
        "id": "BTf9ws12bhO6"
      }
    },
    {
      "cell_type": "markdown",
      "source": [
        "###**Jawaban Poin Penjabaran**\n",
        "1. Total penjualan pizza selama tahun 2015 adalah $817860.05\n",
        "\n",
        "2. Total pizza yang terjual selama tahun 2015 sebanyak 49574 dengan Pizza classic_dlx sebagai pizza yang terjual paling banyak dengan total penjualan sebanyak 2453 pizza dan Pizza brie_carre sebagai pizza yang paling sedikit terjual dengan total penjualan 490 pizza.\n",
        "\n",
        "3. Type Pizza yang memberikan paling banyak penjualan adalah type classic dengan total penjualan $220053.1\n",
        "\n",
        "4. Size pizza dan type pizza yang paling banyak terjual adalah type veggie dengan size L dengan total penjualan $104202.70\n",
        "\n",
        "5. Penjualan terbanyak di tahun 2015 terdapat di bulan Juli dengan total penjualan $72557.90\n",
        "\n",
        "6. Data sudah terdistribusi dengan baik setelah outlier dihilangkan.\n",
        "\n",
        "7. Bila ingin membuka cabang baru, sebaiknya cabang baru mampu mendapatkan penjualan per hari minimal $$1616.80 dan maksimal  $2952.24 untuk bisa menyamakan total penjualan per hari dari cabang pertama."
      ],
      "metadata": {
        "id": "-9krXQen1u5E"
      }
    },
    {
      "cell_type": "markdown",
      "source": [
        "#**Pengambilan Kesimpulan**\n",
        "Restoran pizza tersebut bisa dikatakan sukses melihat mereka mempunyai tingkat penjualan yang baik. Rekomendasi saya adalah mencoba untuk mencari pelanggan terbaik dan memberi sebuah penghargaan kepada pelanggan tersebut agar tetap menjadi pelanggan dan memotivasi pelanggan lain untuk bisa juga menjadi pelanggan terbaik yang akhirnya akan meningkatkan penjualan restoran.\n",
        "\n",
        "Untuk cabang baru, bisa mengikuti sistem dari cabang pertama, namun saya sarankan melakukan sebuah promosi untuk menarik pelanggan baru dan untuk memberi tahu kehadiran cabang kedua kepada masyarakat."
      ],
      "metadata": {
        "id": "AOtkca5IeI8O"
      }
    }
  ]
}